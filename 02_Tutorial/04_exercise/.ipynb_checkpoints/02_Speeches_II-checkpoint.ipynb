{
 "cells": [
  {
   "cell_type": "code",
   "execution_count": 3,
   "metadata": {},
   "outputs": [],
   "source": [
    "# Read the count-matrix from exercise ”Speeches I” (./out/speech_\n",
    "# matrix.pk) using pickle.load().\n",
    "\n",
    "%matplotlib inline\n",
    "import numpy as np\n",
    "import pandas as pd\n",
    "import matplotlib.pyplot as plt\n",
    "import seaborn as sns\n",
    "\n",
    "import pickle\n",
    "\n",
    "fl = open(\"02_Output/speech_matrix.pk\", 'rb')\n",
    "speech_matrix = pickle.load(fl)"
   ]
  },
  {
   "cell_type": "code",
   "execution_count": 6,
   "metadata": {},
   "outputs": [
    {
     "data": {
      "image/png": "[encoded data removed]",
      "text/plain": [
       "<matplotlib.figure.Figure at 0x1a1647e080>"
      ]
     },
     "metadata": {},
     "output_type": "display_data"
    }
   ],
   "source": [
    "# Using the matrix, create a dendrogram of hierarchical clustering. \n",
    "# Remove the x-ticks from the plot.\n",
    "\n",
    "from scipy.cluster.hierarchy import ward, dendrogram\n",
    "\n",
    "linkage_matrix = ward(speech_matrix.toarray())\n",
    "plt.subplots(figsize=(10, 5))\n",
    "dendrogram(linkage_matrix)\n",
    "plt.xticks([])\n",
    "\n",
    "# Save the dendrogram as ./out/speeches_dendrogram.pdf.\n",
    "\n",
    "plt.savefig(\"02_Output/speeches_dendogram.pdf\")"
   ]
  }
 ],
 "metadata": {
  "kernelspec": {
   "display_name": "Python 3",
   "language": "python",
   "name": "python3"
  },
  "language_info": {
   "codemirror_mode": {
    "name": "ipython",
    "version": 3
   },
   "file_extension": ".py",
   "mimetype": "text/x-python",
   "name": "python",
   "nbconvert_exporter": "python",
   "pygments_lexer": "ipython3",
   "version": "3.6.4"
  }
 },
 "nbformat": 4,
 "nbformat_minor": 2
}
