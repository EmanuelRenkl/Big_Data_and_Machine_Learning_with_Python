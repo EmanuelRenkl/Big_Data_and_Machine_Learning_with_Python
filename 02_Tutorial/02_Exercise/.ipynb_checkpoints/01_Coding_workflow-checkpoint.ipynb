{
 "cells": [
  {
   "cell_type": "markdown",
   "metadata": {},
   "source": [
    "* **Read http://web.stanford.edu/~gentzkow/research/CodeAndData.pdf”CodeandData” by M.Gentzkow and J. Shapiro, chapters 2, 3 and 4.**\n",
    "* **What brought Gentzkow and Shapiro to the conclusion, that version control is a necessity?**"
   ]
  },
  {
   "cell_type": "markdown",
   "metadata": {},
   "source": [
    "Version control ensures:\n",
    "* replicability: can replicate any intermediate results\n",
    "* efficiency: saving time, quickly revert changes \n",
    "* facilitates comparison between versions, can track them easiy\n",
    "* traceability of all changes made: what & by who\n",
    "* warnings for simultaneous and conflicting changes"
   ]
  }
 ],
 "metadata": {
  "kernelspec": {
   "display_name": "Python 3",
   "language": "python",
   "name": "python3"
  },
  "language_info": {
   "codemirror_mode": {
    "name": "ipython",
    "version": 3
   },
   "file_extension": ".py",
   "mimetype": "text/x-python",
   "name": "python",
   "nbconvert_exporter": "python",
   "pygments_lexer": "ipython3",
   "version": "3.6.4"
  }
 },
 "nbformat": 4,
 "nbformat_minor": 2
}
