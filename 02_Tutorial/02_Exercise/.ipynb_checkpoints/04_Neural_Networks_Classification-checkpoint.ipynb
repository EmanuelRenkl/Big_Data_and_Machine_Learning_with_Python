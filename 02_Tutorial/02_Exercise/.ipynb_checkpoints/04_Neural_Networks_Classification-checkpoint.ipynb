{
 "cells": [
  {
   "cell_type": "code",
   "execution_count": 3,
   "metadata": {},
   "outputs": [
    {
     "name": "stdout",
     "output_type": "stream",
     "text": [
      "dict_keys(['data', 'target', 'target_names', 'DESCR', 'feature_names'])\n"
     ]
    }
   ],
   "source": [
    "# Load the breast cancer dataset using sklearn.datasets.load_breast_\n",
    "# cancer(). As usual, split the data into test and training set.\n",
    "\n",
    "%matplotlib inline\n",
    "import numpy as np\n",
    "import pandas as pd\n",
    "import matplotlib.pyplot as plt\n",
    "import seaborn as sns\n",
    "\n",
    "from sklearn.datasets import load_breast_cancer\n",
    "\n",
    "cancer = load_breast_cancer()\n",
    "print(cancer.keys())\n",
    "\n",
    "from sklearn.model_selection import train_test_split\n",
    "X_train, X_test, y_train, y_test = train_test_split(cancer['data'], cancer['target'])"
   ]
  },
  {
   "cell_type": "code",
   "execution_count": 4,
   "metadata": {},
   "outputs": [],
   "source": [
    "# Read up about the Area Under the Curve of the Reciever Operating \n",
    "# Characteristic Curve, the so-called ROC-AUC-metric, i.e. at \n",
    "# towardsdatascience.com."
   ]
  },
  {
   "cell_type": "code",
   "execution_count": 12,
   "metadata": {},
   "outputs": [
    {
     "name": "stdout",
     "output_type": "stream",
     "text": [
      "0.9647887323943662\n",
      "{'nn__alpha': 0.001, 'nn__hidden_layer_sizes': (100,)}\n",
      "[0 1 0 1 1 1 0 1 1 1 1 1 1 0 0 1 0 1 1 0 0 0 0 1 0 0 1 1 0 0 1 1 1 1 0 1 1\n",
      " 0 1 1 1 0 0 1 1 0 1 0 0 0 1 1 1 0 1 0 1 1 1 1 1 1 1 1 0 0 1 1 1 1 1 0 0 1\n",
      " 0 1 0 1 0 1 1 1 0 1 1 1 0 1 1 1 0 1 0 1 1 0 0 1 1 0 0 1 1 0 1 1 1 1 1 0 1\n",
      " 1 0 1 1 0 1 1 0 0 0 1 0 1 1 1 1 0 1 0 1 0 1 0 0 0 1 1 0 0 0 1 0]\n"
     ]
    }
   ],
   "source": [
    "# Learn a a Neural Network after MinMax-Scaling with in total four \n",
    "# parameter combinations (and 1000 iterations) of your choice using \n",
    "# 5-fold Cross-Validation. Use the ROC-AuC-score metric to pick the best \n",
    "# model.\n",
    "\n",
    "from sklearn.pipeline import Pipeline\n",
    "from sklearn.neural_network import MLPClassifier\n",
    "from sklearn.preprocessing import MinMaxScaler\n",
    "from sklearn.model_selection import GridSearchCV\n",
    "\n",
    "pipe = Pipeline([(\"scalar\", MinMaxScaler()),\n",
    "                 (\"nn\",MLPClassifier(max_iter=1000, solver=\"lbfgs\"))])\n",
    "param_grid = {\"nn__hidden_layer_sizes\": [(200,),(100,)],\"nn__alpha\": \n",
    "              [0.00001, 0.001]} \n",
    "\n",
    "grid = GridSearchCV(pipe, param_grid, cv=5, return_train_score=True)\n",
    "grid.fit(X_train, y_train)\n",
    "\n",
    "\n",
    "print(grid.best_score_)\n",
    "print(grid.best_params_)\n",
    "\n",
    "preds = grid.predict(X_test)\n",
    "print(preds)"
   ]
  },
  {
   "cell_type": "code",
   "execution_count": 13,
   "metadata": {},
   "outputs": [
    {
     "data": {
      "text/plain": [
       "<matplotlib.axes._subplots.AxesSubplot at 0x1a0bad8710>"
      ]
     },
     "execution_count": 13,
     "metadata": {},
     "output_type": "execute_result"
    },
    {
     "data": {
      "image/png": "[encoded data removed]",
      "text/plain": [
       "<matplotlib.figure.Figure at 0x1a120719e8>"
      ]
     },
     "metadata": {},
     "output_type": "display_data"
    }
   ],
   "source": [
    "# Plot a heatmap for the mean test scores of your pipeline and label the \n",
    "# axes ticks using your used values.\n",
    "\n",
    "from sklearn.metrics import confusion_matrix\n",
    "\n",
    "confusion_m = confusion_matrix(y_test,preds)\n",
    "sns.heatmap(confusion_m,annot=True)"
   ]
  },
  {
   "cell_type": "code",
   "execution_count": 24,
   "metadata": {},
   "outputs": [
    {
     "name": "stdout",
     "output_type": "stream",
     "text": [
      "{'nn__alpha': 0.001, 'nn__hidden_layer_sizes': (100,)}\n",
      "0.9647887323943662\n"
     ]
    },
    {
     "data": {
      "text/plain": [
       "MLPClassifier(activation='relu', alpha=0.001, batch_size='auto', beta_1=0.9,\n",
       "       beta_2=0.999, early_stopping=False, epsilon=1e-08,\n",
       "       hidden_layer_sizes=(100,), learning_rate='constant',\n",
       "       learning_rate_init=0.001, max_iter=1000, momentum=0.9,\n",
       "       nesterovs_momentum=True, power_t=0.5, random_state=None,\n",
       "       shuffle=True, solver='lbfgs', tol=0.0001, validation_fraction=0.1,\n",
       "       verbose=False, warm_start=False)"
      ]
     },
     "execution_count": 24,
     "metadata": {},
     "output_type": "execute_result"
    }
   ],
   "source": [
    "# Plot a heatmap of the confusion matrix for the best model (Hint: \n",
    "# the best estimator has a property _final_estimator).\n",
    "\n",
    "print(grid.best_params_)\n",
    "print(grid.best_score_)\n",
    "\n",
    "best = grid.best_estimator_\n",
    "best._final_estimator"
   ]
  }
 ],
 "metadata": {
  "kernelspec": {
   "display_name": "Python 3",
   "language": "python",
   "name": "python3"
  },
  "language_info": {
   "codemirror_mode": {
    "name": "ipython",
    "version": 3
   },
   "file_extension": ".py",
   "mimetype": "text/x-python",
   "name": "python",
   "nbconvert_exporter": "python",
   "pygments_lexer": "ipython3",
   "version": "3.6.4"
  }
 },
 "nbformat": 4,
 "nbformat_minor": 2
}
