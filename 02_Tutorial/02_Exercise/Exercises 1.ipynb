{
 "cells": [
  {
   "cell_type": "markdown",
   "metadata": {},
   "source": [
    "# 1 Exercises for Pandas, APIs and Plotting"
   ]
  },
  {
   "cell_type": "markdown",
   "metadata": {},
   "source": [
    "## 1. Coding workflow"
   ]
  },
  {
   "cell_type": "markdown",
   "metadata": {},
   "source": [
    "According to Gentzkow and Shapiro, version control is a necessity because it ensures: \n",
    "    - replicability: can replicate any intermediate results\n",
    "    - efficiency: saving time, quickly revert changes \n",
    "    - facilitates comparison between versions, can track them easiy\n",
    "    - traceability of all changes made: what & by who\n",
    "    - warnings for simultaneous and conflicting changes"
   ]
  },
  {
   "cell_type": "markdown",
   "metadata": {},
   "source": [
    "## 2. Occupations"
   ]
  },
  {
   "cell_type": "code",
   "execution_count": 46,
   "metadata": {},
   "outputs": [],
   "source": [
    "# Import dataset\n",
    "import pandas as pd\n",
    "OCCUPATIONS = \"https://raw.githubusercontent.com/justmarkham/DAT8/master/data/u.user\"\n",
    "df = pd.read_csv(OCCUPATIONS, sep='|')"
   ]
  },
  {
   "cell_type": "code",
   "execution_count": 47,
   "metadata": {},
   "outputs": [],
   "source": [
    "# Set user as index\n",
    "df = df.set_index(\"user_id\")\n",
    "df.index.names = [\"User\"]"
   ]
  },
  {
   "cell_type": "code",
   "execution_count": null,
   "metadata": {},
   "outputs": [],
   "source": [
    "# "
   ]
  },
  {
   "cell_type": "code",
   "execution_count": 39,
   "metadata": {},
   "outputs": [
    {
     "data": {
      "text/plain": [
       "age            int64\n",
       "gender        object\n",
       "occupation    object\n",
       "zip_code      object\n",
       "dtype: object"
      ]
     },
     "execution_count": 39,
     "metadata": {},
     "output_type": "execute_result"
    }
   ],
   "source": [
    "# Type of each column\n",
    "df.dtypes"
   ]
  },
  {
   "cell_type": "code",
   "execution_count": 52,
   "metadata": {},
   "outputs": [
    {
     "data": {
      "text/plain": [
       "21"
      ]
     },
     "execution_count": 52,
     "metadata": {},
     "output_type": "execute_result"
    }
   ],
   "source": [
    "# Occupations\n",
    "df[\"occupation\"].nunique() # number of occupations is 21\n",
    "df[\"occupation\"].value_counts() # most frequent occupation is student"
   ]
  },
  {
   "cell_type": "code",
   "execution_count": 54,
   "metadata": {},
   "outputs": [
    {
     "data": {
      "text/plain": [
       "30    39\n",
       "25    38\n",
       "22    37\n",
       "28    36\n",
       "27    35\n",
       "26    34\n",
       "24    33\n",
       "29    32\n",
       "20    32\n",
       "32    28\n",
       "23    28\n",
       "35    27\n",
       "21    27\n",
       "33    26\n",
       "31    25\n",
       "19    23\n",
       "44    23\n",
       "39    22\n",
       "40    21\n",
       "36    21\n",
       "42    21\n",
       "51    20\n",
       "50    20\n",
       "48    20\n",
       "49    19\n",
       "37    19\n",
       "18    18\n",
       "34    17\n",
       "38    17\n",
       "45    15\n",
       "      ..\n",
       "47    14\n",
       "43    13\n",
       "46    12\n",
       "53    12\n",
       "55    11\n",
       "41    10\n",
       "57     9\n",
       "60     9\n",
       "52     6\n",
       "56     6\n",
       "15     6\n",
       "13     5\n",
       "16     5\n",
       "54     4\n",
       "63     3\n",
       "14     3\n",
       "65     3\n",
       "70     3\n",
       "61     3\n",
       "59     3\n",
       "58     3\n",
       "64     2\n",
       "68     2\n",
       "69     2\n",
       "62     2\n",
       "11     1\n",
       "10     1\n",
       "73     1\n",
       "66     1\n",
       "7      1\n",
       "Name: age, Length: 61, dtype: int64"
      ]
     },
     "execution_count": 54,
     "metadata": {},
     "output_type": "execute_result"
    }
   ],
   "source": [
    "# Age\n",
    "df[\"age\"].value_counts() # least frequent ages are 7,10,11,66,73 "
   ]
  },
  {
   "cell_type": "code",
   "execution_count": 66,
   "metadata": {},
   "outputs": [
    {
     "data": {
      "image/png": "[encoded data removed]",
      "text/plain": [
       "<Figure size 432x288 with 1 Axes>"
      ]
     },
     "metadata": {
      "needs_background": "light"
     },
     "output_type": "display_data"
    }
   ],
   "source": [
    "# Histogram for occupations\n",
    "%matplotlib inline\n",
    "import numpy as np\n",
    "import matplotlib.pyplot as plt\n",
    "df.plot.hist(\"occupation\")\n",
    "\n",
    "plt.savefig('occupations.pdf')"
   ]
  },
  {
   "cell_type": "markdown",
   "metadata": {},
   "source": [
    "## 3. Countries’ alcoholic consumption"
   ]
  },
  {
   "cell_type": "code",
   "execution_count": null,
   "metadata": {},
   "outputs": [],
   "source": []
  },
  {
   "cell_type": "markdown",
   "metadata": {},
   "source": [
    "## 4. Tips"
   ]
  },
  {
   "cell_type": "code",
   "execution_count": 74,
   "metadata": {},
   "outputs": [],
   "source": [
    "# Load dataset\n",
    "import seaborn as sns\n",
    "TIPS = sns.load_dataset(\"tips\")"
   ]
  },
  {
   "cell_type": "code",
   "execution_count": 96,
   "metadata": {},
   "outputs": [
    {
     "data": {
      "text/plain": [
       "<seaborn.axisgrid.FacetGrid at 0x1a16d5c6a0>"
      ]
     },
     "execution_count": 96,
     "metadata": {},
     "output_type": "execute_result"
    },
    {
     "data": {
      "image/png": "[encoded data removed]",
      "text/plain": [
       "<Figure size 432.625x360 with 1 Axes>"
      ]
     },
     "metadata": {
      "needs_background": "light"
     },
     "output_type": "display_data"
    }
   ],
   "source": [
    "# Plotting\n",
    "sns.relplot(x='total_bill', y='tip', data=TIPS, kind=\"line\", hue=\"day\", style=\"sex\", marker=True)\n",
    "plt.savefig('tips.pdf') # saving the plot"
   ]
  },
  {
   "cell_type": "code",
   "execution_count": null,
   "metadata": {},
   "outputs": [],
   "source": []
  },
  {
   "cell_type": "markdown",
   "metadata": {},
   "source": [
    "## 7. Memory"
   ]
  },
  {
   "cell_type": "code",
   "execution_count": 40,
   "metadata": {},
   "outputs": [
    {
     "name": "stderr",
     "output_type": "stream",
     "text": [
      "/anaconda3/lib/python3.7/site-packages/IPython/core/interactiveshell.py:3020: DtypeWarning: Columns (12,13,14,15,19,20,81,83,85,87,93,94,95,96,97,98,99,100,105,106,108,109,111,112,114,115,117,118,120,121,123,124,126,127,129,130,132,133,135,136,138,139,141,142,144,145,147,148,150,151,153,154,156,157,160) have mixed types. Specify dtype option on import or set low_memory=False.\n",
      "  interactivity=interactivity, compiler=compiler, result=result)\n"
     ]
    }
   ],
   "source": [
    "# Load data\n",
    "\n",
    "import pandas as pd\n",
    "DATA = \"https://query.data.world/s/wsjbxdqhw6z6izgdxijv5p2lfqh7gx\"\n",
    "df = pd.read_csv(DATA)"
   ]
  },
  {
   "cell_type": "code",
   "execution_count": 41,
   "metadata": {},
   "outputs": [
    {
     "name": "stdout",
     "output_type": "stream",
     "text": [
      "<class 'pandas.core.frame.DataFrame'>\n",
      "RangeIndex: 171907 entries, 0 to 171906\n",
      "Columns: 161 entries, date to acquisition_info\n",
      "dtypes: float64(77), int64(6), object(78)\n",
      "memory usage: 211.2+ MB\n",
      "<class 'pandas.core.frame.DataFrame'>\n",
      "RangeIndex: 171907 entries, 0 to 171906\n",
      "Columns: 161 entries, date to acquisition_info\n",
      "dtypes: float64(77), int64(6), object(78)\n",
      "memory usage: 861.6 MB\n"
     ]
    }
   ],
   "source": [
    "# Inspect data\n",
    "\n",
    "df.info()\n",
    "df.info(memory_usage=\"deep\")\n",
    "# second info shows much larger memory usage \n",
    "# default: memory estimation based in column dtype and number of \n",
    "    # rows assuming values consume the same memory amount for \n",
    "    # corresponding dtypes. \n",
    "# deep: real memory usage calculation is performed, \n",
    "    # cost of computational resources\n",
    "# Memory space required: 861.6 MB"
   ]
  },
  {
   "cell_type": "code",
   "execution_count": 42,
   "metadata": {},
   "outputs": [
    {
     "data": {
      "text/html": [
       "<div>\n",
       "<style scoped>\n",
       "    .dataframe tbody tr th:only-of-type {\n",
       "        vertical-align: middle;\n",
       "    }\n",
       "\n",
       "    .dataframe tbody tr th {\n",
       "        vertical-align: top;\n",
       "    }\n",
       "\n",
       "    .dataframe thead th {\n",
       "        text-align: right;\n",
       "    }\n",
       "</style>\n",
       "<table border=\"1\" class=\"dataframe\">\n",
       "  <thead>\n",
       "    <tr style=\"text-align: right;\">\n",
       "      <th></th>\n",
       "      <th>day_of_week</th>\n",
       "      <th>v_name</th>\n",
       "      <th>v_league</th>\n",
       "      <th>h_name</th>\n",
       "      <th>h_league</th>\n",
       "      <th>day_night</th>\n",
       "      <th>completion</th>\n",
       "      <th>forefeit</th>\n",
       "      <th>protest</th>\n",
       "      <th>park_id</th>\n",
       "      <th>...</th>\n",
       "      <th>h_player_6_id</th>\n",
       "      <th>h_player_6_name</th>\n",
       "      <th>h_player_7_id</th>\n",
       "      <th>h_player_7_name</th>\n",
       "      <th>h_player_8_id</th>\n",
       "      <th>h_player_8_name</th>\n",
       "      <th>h_player_9_id</th>\n",
       "      <th>h_player_9_name</th>\n",
       "      <th>additional_info</th>\n",
       "      <th>acquisition_info</th>\n",
       "    </tr>\n",
       "  </thead>\n",
       "  <tbody>\n",
       "    <tr>\n",
       "      <th>0</th>\n",
       "      <td>Thu</td>\n",
       "      <td>CL1</td>\n",
       "      <td>na</td>\n",
       "      <td>FW1</td>\n",
       "      <td>na</td>\n",
       "      <td>D</td>\n",
       "      <td>NaN</td>\n",
       "      <td>NaN</td>\n",
       "      <td>NaN</td>\n",
       "      <td>FOR01</td>\n",
       "      <td>...</td>\n",
       "      <td>caret101</td>\n",
       "      <td>Tom Carey</td>\n",
       "      <td>mince101</td>\n",
       "      <td>Ed Mincher</td>\n",
       "      <td>mcdej101</td>\n",
       "      <td>James McDermott</td>\n",
       "      <td>kellb105</td>\n",
       "      <td>Bill Kelly</td>\n",
       "      <td>NaN</td>\n",
       "      <td>Y</td>\n",
       "    </tr>\n",
       "    <tr>\n",
       "      <th>1</th>\n",
       "      <td>Fri</td>\n",
       "      <td>BS1</td>\n",
       "      <td>na</td>\n",
       "      <td>WS3</td>\n",
       "      <td>na</td>\n",
       "      <td>D</td>\n",
       "      <td>NaN</td>\n",
       "      <td>NaN</td>\n",
       "      <td>NaN</td>\n",
       "      <td>WAS01</td>\n",
       "      <td>...</td>\n",
       "      <td>leona101</td>\n",
       "      <td>Andy Leonard</td>\n",
       "      <td>braia102</td>\n",
       "      <td>Asa Brainard</td>\n",
       "      <td>burrh101</td>\n",
       "      <td>Henry Burroughs</td>\n",
       "      <td>berth101</td>\n",
       "      <td>Henry Berthrong</td>\n",
       "      <td>HTBF</td>\n",
       "      <td>Y</td>\n",
       "    </tr>\n",
       "    <tr>\n",
       "      <th>2</th>\n",
       "      <td>Sat</td>\n",
       "      <td>CL1</td>\n",
       "      <td>na</td>\n",
       "      <td>RC1</td>\n",
       "      <td>na</td>\n",
       "      <td>D</td>\n",
       "      <td>NaN</td>\n",
       "      <td>NaN</td>\n",
       "      <td>NaN</td>\n",
       "      <td>RCK01</td>\n",
       "      <td>...</td>\n",
       "      <td>ansoc101</td>\n",
       "      <td>Cap Anson</td>\n",
       "      <td>sagep101</td>\n",
       "      <td>Pony Sager</td>\n",
       "      <td>birdg101</td>\n",
       "      <td>George Bird</td>\n",
       "      <td>stirg101</td>\n",
       "      <td>Gat Stires</td>\n",
       "      <td>NaN</td>\n",
       "      <td>Y</td>\n",
       "    </tr>\n",
       "    <tr>\n",
       "      <th>3</th>\n",
       "      <td>Mon</td>\n",
       "      <td>CL1</td>\n",
       "      <td>na</td>\n",
       "      <td>CH1</td>\n",
       "      <td>na</td>\n",
       "      <td>D</td>\n",
       "      <td>NaN</td>\n",
       "      <td>NaN</td>\n",
       "      <td>NaN</td>\n",
       "      <td>CHI01</td>\n",
       "      <td>...</td>\n",
       "      <td>folet101</td>\n",
       "      <td>Tom Foley</td>\n",
       "      <td>duffe101</td>\n",
       "      <td>Ed Duffy</td>\n",
       "      <td>pinke101</td>\n",
       "      <td>Ed Pinkham</td>\n",
       "      <td>zettg101</td>\n",
       "      <td>George Zettlein</td>\n",
       "      <td>NaN</td>\n",
       "      <td>Y</td>\n",
       "    </tr>\n",
       "    <tr>\n",
       "      <th>4</th>\n",
       "      <td>Tue</td>\n",
       "      <td>BS1</td>\n",
       "      <td>na</td>\n",
       "      <td>TRO</td>\n",
       "      <td>na</td>\n",
       "      <td>D</td>\n",
       "      <td>NaN</td>\n",
       "      <td>NaN</td>\n",
       "      <td>NaN</td>\n",
       "      <td>TRO01</td>\n",
       "      <td>...</td>\n",
       "      <td>beave101</td>\n",
       "      <td>Edward Beavens</td>\n",
       "      <td>bells101</td>\n",
       "      <td>Steve Bellan</td>\n",
       "      <td>pikel101</td>\n",
       "      <td>Lip Pike</td>\n",
       "      <td>cravb101</td>\n",
       "      <td>Bill Craver</td>\n",
       "      <td>HTBF</td>\n",
       "      <td>Y</td>\n",
       "    </tr>\n",
       "  </tbody>\n",
       "</table>\n",
       "<p>5 rows × 78 columns</p>\n",
       "</div>"
      ],
      "text/plain": [
       "  day_of_week v_name v_league h_name h_league day_night completion forefeit  \\\n",
       "0         Thu    CL1       na    FW1       na         D        NaN      NaN   \n",
       "1         Fri    BS1       na    WS3       na         D        NaN      NaN   \n",
       "2         Sat    CL1       na    RC1       na         D        NaN      NaN   \n",
       "3         Mon    CL1       na    CH1       na         D        NaN      NaN   \n",
       "4         Tue    BS1       na    TRO       na         D        NaN      NaN   \n",
       "\n",
       "  protest park_id       ...        h_player_6_id h_player_6_name  \\\n",
       "0     NaN   FOR01       ...             caret101       Tom Carey   \n",
       "1     NaN   WAS01       ...             leona101    Andy Leonard   \n",
       "2     NaN   RCK01       ...             ansoc101       Cap Anson   \n",
       "3     NaN   CHI01       ...             folet101       Tom Foley   \n",
       "4     NaN   TRO01       ...             beave101  Edward Beavens   \n",
       "\n",
       "  h_player_7_id h_player_7_name h_player_8_id  h_player_8_name h_player_9_id  \\\n",
       "0      mince101      Ed Mincher      mcdej101  James McDermott      kellb105   \n",
       "1      braia102    Asa Brainard      burrh101  Henry Burroughs      berth101   \n",
       "2      sagep101      Pony Sager      birdg101      George Bird      stirg101   \n",
       "3      duffe101        Ed Duffy      pinke101       Ed Pinkham      zettg101   \n",
       "4      bells101    Steve Bellan      pikel101         Lip Pike      cravb101   \n",
       "\n",
       "   h_player_9_name additional_info acquisition_info  \n",
       "0       Bill Kelly             NaN                Y  \n",
       "1  Henry Berthrong            HTBF                Y  \n",
       "2       Gat Stires             NaN                Y  \n",
       "3  George Zettlein             NaN                Y  \n",
       "4      Bill Craver            HTBF                Y  \n",
       "\n",
       "[5 rows x 78 columns]"
      ]
     },
     "execution_count": 42,
     "metadata": {},
     "output_type": "execute_result"
    }
   ],
   "source": [
    "# Copy of data with only object columns remaining \n",
    "\n",
    "df_obj = df.select_dtypes(include=['object'])\n",
    "df_obj.head()"
   ]
  },
  {
   "cell_type": "code",
   "execution_count": 43,
   "metadata": {
    "scrolled": true
   },
   "outputs": [
    {
     "data": {
      "text/html": [
       "<div>\n",
       "<style scoped>\n",
       "    .dataframe tbody tr th:only-of-type {\n",
       "        vertical-align: middle;\n",
       "    }\n",
       "\n",
       "    .dataframe tbody tr th {\n",
       "        vertical-align: top;\n",
       "    }\n",
       "\n",
       "    .dataframe thead th {\n",
       "        text-align: right;\n",
       "    }\n",
       "</style>\n",
       "<table border=\"1\" class=\"dataframe\">\n",
       "  <thead>\n",
       "    <tr style=\"text-align: right;\">\n",
       "      <th></th>\n",
       "      <th>day_of_week</th>\n",
       "      <th>v_name</th>\n",
       "      <th>v_league</th>\n",
       "      <th>h_name</th>\n",
       "      <th>h_league</th>\n",
       "      <th>day_night</th>\n",
       "      <th>completion</th>\n",
       "      <th>forefeit</th>\n",
       "      <th>protest</th>\n",
       "      <th>park_id</th>\n",
       "      <th>...</th>\n",
       "      <th>h_player_6_id</th>\n",
       "      <th>h_player_6_name</th>\n",
       "      <th>h_player_7_id</th>\n",
       "      <th>h_player_7_name</th>\n",
       "      <th>h_player_8_id</th>\n",
       "      <th>h_player_8_name</th>\n",
       "      <th>h_player_9_id</th>\n",
       "      <th>h_player_9_name</th>\n",
       "      <th>additional_info</th>\n",
       "      <th>acquisition_info</th>\n",
       "    </tr>\n",
       "  </thead>\n",
       "  <tbody>\n",
       "    <tr>\n",
       "      <th>count</th>\n",
       "      <td>171907</td>\n",
       "      <td>171907</td>\n",
       "      <td>171907</td>\n",
       "      <td>171907</td>\n",
       "      <td>171907</td>\n",
       "      <td>140150</td>\n",
       "      <td>116</td>\n",
       "      <td>145</td>\n",
       "      <td>180</td>\n",
       "      <td>171907</td>\n",
       "      <td>...</td>\n",
       "      <td>140838</td>\n",
       "      <td>140838</td>\n",
       "      <td>140838</td>\n",
       "      <td>140838</td>\n",
       "      <td>140838</td>\n",
       "      <td>140838</td>\n",
       "      <td>140838</td>\n",
       "      <td>140838</td>\n",
       "      <td>1456</td>\n",
       "      <td>140841</td>\n",
       "    </tr>\n",
       "    <tr>\n",
       "      <th>unique</th>\n",
       "      <td>7</td>\n",
       "      <td>148</td>\n",
       "      <td>7</td>\n",
       "      <td>148</td>\n",
       "      <td>7</td>\n",
       "      <td>2</td>\n",
       "      <td>116</td>\n",
       "      <td>3</td>\n",
       "      <td>5</td>\n",
       "      <td>245</td>\n",
       "      <td>...</td>\n",
       "      <td>4774</td>\n",
       "      <td>4720</td>\n",
       "      <td>5253</td>\n",
       "      <td>5197</td>\n",
       "      <td>4760</td>\n",
       "      <td>4710</td>\n",
       "      <td>5193</td>\n",
       "      <td>5142</td>\n",
       "      <td>332</td>\n",
       "      <td>1</td>\n",
       "    </tr>\n",
       "    <tr>\n",
       "      <th>top</th>\n",
       "      <td>Sat</td>\n",
       "      <td>CHN</td>\n",
       "      <td>NL</td>\n",
       "      <td>CHN</td>\n",
       "      <td>NL</td>\n",
       "      <td>D</td>\n",
       "      <td>19600622,,5,7,48</td>\n",
       "      <td>H</td>\n",
       "      <td>V</td>\n",
       "      <td>STL07</td>\n",
       "      <td>...</td>\n",
       "      <td>grimc101</td>\n",
       "      <td>Charlie Grimm</td>\n",
       "      <td>grimc101</td>\n",
       "      <td>Charlie Grimm</td>\n",
       "      <td>lopea102</td>\n",
       "      <td>Al Lopez</td>\n",
       "      <td>spahw101</td>\n",
       "      <td>Warren Spahn</td>\n",
       "      <td>HTBF</td>\n",
       "      <td>Y</td>\n",
       "    </tr>\n",
       "    <tr>\n",
       "      <th>freq</th>\n",
       "      <td>28891</td>\n",
       "      <td>8870</td>\n",
       "      <td>88866</td>\n",
       "      <td>9024</td>\n",
       "      <td>88867</td>\n",
       "      <td>82724</td>\n",
       "      <td>1</td>\n",
       "      <td>69</td>\n",
       "      <td>90</td>\n",
       "      <td>7022</td>\n",
       "      <td>...</td>\n",
       "      <td>427</td>\n",
       "      <td>427</td>\n",
       "      <td>491</td>\n",
       "      <td>491</td>\n",
       "      <td>676</td>\n",
       "      <td>676</td>\n",
       "      <td>339</td>\n",
       "      <td>339</td>\n",
       "      <td>1112</td>\n",
       "      <td>140841</td>\n",
       "    </tr>\n",
       "  </tbody>\n",
       "</table>\n",
       "<p>4 rows × 78 columns</p>\n",
       "</div>"
      ],
      "text/plain": [
       "       day_of_week  v_name v_league  h_name h_league day_night  \\\n",
       "count       171907  171907   171907  171907   171907    140150   \n",
       "unique           7     148        7     148        7         2   \n",
       "top            Sat     CHN       NL     CHN       NL         D   \n",
       "freq         28891    8870    88866    9024    88867     82724   \n",
       "\n",
       "              completion forefeit protest park_id       ...         \\\n",
       "count                116      145     180  171907       ...          \n",
       "unique               116        3       5     245       ...          \n",
       "top     19600622,,5,7,48        H       V   STL07       ...          \n",
       "freq                   1       69      90    7022       ...          \n",
       "\n",
       "       h_player_6_id h_player_6_name h_player_7_id h_player_7_name  \\\n",
       "count         140838          140838        140838          140838   \n",
       "unique          4774            4720          5253            5197   \n",
       "top         grimc101   Charlie Grimm      grimc101   Charlie Grimm   \n",
       "freq             427             427           491             491   \n",
       "\n",
       "       h_player_8_id h_player_8_name h_player_9_id h_player_9_name  \\\n",
       "count         140838          140838        140838          140838   \n",
       "unique          4760            4710          5193            5142   \n",
       "top         lopea102        Al Lopez      spahw101    Warren Spahn   \n",
       "freq             676             676           339             339   \n",
       "\n",
       "       additional_info acquisition_info  \n",
       "count             1456           140841  \n",
       "unique             332                1  \n",
       "top               HTBF                Y  \n",
       "freq              1112           140841  \n",
       "\n",
       "[4 rows x 78 columns]"
      ]
     },
     "execution_count": 43,
     "metadata": {},
     "output_type": "execute_result"
    }
   ],
   "source": [
    "# Description of new dataframe\n",
    "\n",
    "df_obj.describe()"
   ]
  },
  {
   "cell_type": "code",
   "execution_count": 45,
   "metadata": {},
   "outputs": [
    {
     "data": {
      "text/plain": [
       "['day_of_week',\n",
       " 'v_name',\n",
       " 'v_league',\n",
       " 'h_name',\n",
       " 'h_league',\n",
       " 'day_night',\n",
       " 'forefeit',\n",
       " 'protest',\n",
       " 'park_id',\n",
       " 'hp_umpire_id',\n",
       " 'hp_umpire_name',\n",
       " '1b_umpire_id',\n",
       " '1b_umpire_name',\n",
       " '2b_umpire_id',\n",
       " '2b_umpire_name',\n",
       " '3b_umpire_id',\n",
       " '3b_umpire_name',\n",
       " 'lf_umpire_name',\n",
       " 'rf_umpire_name',\n",
       " 'v_manager_id',\n",
       " 'v_manager_name',\n",
       " 'h_manager_id',\n",
       " 'h_manager_name',\n",
       " 'winning_pitcher_id',\n",
       " 'winning_pitcher_name',\n",
       " 'losing_pitcher_id',\n",
       " 'losing_pitcher_name',\n",
       " 'saving_pitcher_name',\n",
       " 'winning_rbi_batter_id_name',\n",
       " 'v_starting_pitcher_id',\n",
       " 'v_starting_pitcher_name',\n",
       " 'h_starting_pitcher_id',\n",
       " 'h_starting_pitcher_name',\n",
       " 'v_player_1_id',\n",
       " 'v_player_1_name',\n",
       " 'v_player_2_id',\n",
       " 'v_player_2_name',\n",
       " 'v_player_3_id',\n",
       " 'v_player_3_name',\n",
       " 'v_player_4_id',\n",
       " 'v_player_4_name',\n",
       " 'v_player_5_id',\n",
       " 'v_player_5_name',\n",
       " 'v_player_6_id',\n",
       " 'v_player_6_name',\n",
       " 'v_player_7_id',\n",
       " 'v_player_7_name',\n",
       " 'v_player_8_id',\n",
       " 'v_player_8_name',\n",
       " 'v_player_9_id',\n",
       " 'v_player_9_name',\n",
       " 'h_player_1_id',\n",
       " 'h_player_1_name',\n",
       " 'h_player_2_id',\n",
       " 'h_player_2_name',\n",
       " 'h_player_3_id',\n",
       " 'h_player_3_name',\n",
       " 'h_player_4_id',\n",
       " 'h_player_4_name',\n",
       " 'h_player_5_id',\n",
       " 'h_player_5_name',\n",
       " 'h_player_6_id',\n",
       " 'h_player_6_name',\n",
       " 'h_player_7_id',\n",
       " 'h_player_7_name',\n",
       " 'h_player_8_id',\n",
       " 'h_player_8_name',\n",
       " 'h_player_9_id',\n",
       " 'h_player_9_name',\n",
       " 'acquisition_info']"
      ]
     },
     "execution_count": 45,
     "metadata": {},
     "output_type": "execute_result"
    }
   ],
   "source": [
    "# get the list of column names\n",
    "\n",
    "# define few unique as less than 5% of observations\n",
    "\n",
    "columns_few = []\n",
    "for col in df_obj.columns:\n",
    "    if df_obj[col].nunique()/df_obj[col].count() <= 0.05:\n",
    "        columns_few.append(col)\n",
    "columns_few"
   ]
  },
  {
   "cell_type": "code",
   "execution_count": 28,
   "metadata": {},
   "outputs": [
    {
     "data": {
      "text/plain": [
       "list"
      ]
     },
     "execution_count": 28,
     "metadata": {},
     "output_type": "execute_result"
    }
   ],
   "source": [
    "type(columns_few)"
   ]
  },
  {
   "cell_type": "code",
   "execution_count": null,
   "metadata": {},
   "outputs": [],
   "source": [
    "# Convert object column into category column?\n",
    "\n",
    "# only makes sense when the feature takes on very few unique values, \n",
    "    # in that case it saves memory significantly\n",
    "# if >50% of values are unique, category is not unseful. "
   ]
  },
  {
   "cell_type": "code",
   "execution_count": 48,
   "metadata": {},
   "outputs": [
    {
     "name": "stderr",
     "output_type": "stream",
     "text": [
      "/anaconda3/lib/python3.7/site-packages/ipykernel_launcher.py:5: SettingWithCopyWarning: \n",
      "A value is trying to be set on a copy of a slice from a DataFrame.\n",
      "Try using .loc[row_indexer,col_indexer] = value instead\n",
      "\n",
      "See the caveats in the documentation: http://pandas.pydata.org/pandas-docs/stable/indexing.html#indexing-view-versus-copy\n",
      "  \"\"\"\n"
     ]
    }
   ],
   "source": [
    "# Convert to category columns\n",
    "\n",
    "# own criterion: if <10 unique values\n",
    "for i in range(len(columns_few)):\n",
    "    df_obj[columns_few[i]] = df_obj[columns_few[i]].astype('category')"
   ]
  },
  {
   "cell_type": "code",
   "execution_count": 49,
   "metadata": {},
   "outputs": [
    {
     "name": "stdout",
     "output_type": "stream",
     "text": [
      "<class 'pandas.core.frame.DataFrame'>\n",
      "RangeIndex: 171907 entries, 0 to 171906\n",
      "Data columns (total 78 columns):\n",
      "day_of_week                   171907 non-null category\n",
      "v_name                        171907 non-null category\n",
      "v_league                      171907 non-null category\n",
      "h_name                        171907 non-null category\n",
      "h_league                      171907 non-null category\n",
      "day_night                     140150 non-null category\n",
      "completion                    116 non-null object\n",
      "forefeit                      145 non-null category\n",
      "protest                       180 non-null category\n",
      "park_id                       171907 non-null category\n",
      "v_line_score                  147271 non-null object\n",
      "h_line_score                  147271 non-null object\n",
      "hp_umpire_id                  171888 non-null category\n",
      "hp_umpire_name                171891 non-null category\n",
      "1b_umpire_id                  147040 non-null category\n",
      "1b_umpire_name                171891 non-null category\n",
      "2b_umpire_id                  88540 non-null category\n",
      "2b_umpire_name                171127 non-null category\n",
      "3b_umpire_id                  116723 non-null category\n",
      "3b_umpire_name                171135 non-null category\n",
      "lf_umpire_id                  203 non-null object\n",
      "lf_umpire_name                171902 non-null category\n",
      "rf_umpire_id                  9 non-null object\n",
      "rf_umpire_name                171902 non-null category\n",
      "v_manager_id                  171907 non-null category\n",
      "v_manager_name                171907 non-null category\n",
      "h_manager_id                  171907 non-null category\n",
      "h_manager_name                171907 non-null category\n",
      "winning_pitcher_id            140229 non-null category\n",
      "winning_pitcher_name          140229 non-null category\n",
      "losing_pitcher_id             140229 non-null category\n",
      "losing_pitcher_name           140229 non-null category\n",
      "saving_pitcher_id             48018 non-null object\n",
      "saving_pitcher_name           140838 non-null category\n",
      "winning_rbi_batter_id         105699 non-null object\n",
      "winning_rbi_batter_id_name    140838 non-null category\n",
      "v_starting_pitcher_id         171863 non-null category\n",
      "v_starting_pitcher_name       171863 non-null category\n",
      "h_starting_pitcher_id         171863 non-null category\n",
      "h_starting_pitcher_name       171863 non-null category\n",
      "v_player_1_id                 140838 non-null category\n",
      "v_player_1_name               140838 non-null category\n",
      "v_player_2_id                 140838 non-null category\n",
      "v_player_2_name               140838 non-null category\n",
      "v_player_3_id                 140838 non-null category\n",
      "v_player_3_name               140838 non-null category\n",
      "v_player_4_id                 140838 non-null category\n",
      "v_player_4_name               140838 non-null category\n",
      "v_player_5_id                 140838 non-null category\n",
      "v_player_5_name               140838 non-null category\n",
      "v_player_6_id                 140838 non-null category\n",
      "v_player_6_name               140838 non-null category\n",
      "v_player_7_id                 140838 non-null category\n",
      "v_player_7_name               140838 non-null category\n",
      "v_player_8_id                 140838 non-null category\n",
      "v_player_8_name               140838 non-null category\n",
      "v_player_9_id                 140835 non-null category\n",
      "v_player_9_name               140835 non-null category\n",
      "h_player_1_id                 140838 non-null category\n",
      "h_player_1_name               140838 non-null category\n",
      "h_player_2_id                 140838 non-null category\n",
      "h_player_2_name               140838 non-null category\n",
      "h_player_3_id                 140838 non-null category\n",
      "h_player_3_name               140838 non-null category\n",
      "h_player_4_id                 140838 non-null category\n",
      "h_player_4_name               140838 non-null category\n",
      "h_player_5_id                 140838 non-null category\n",
      "h_player_5_name               140838 non-null category\n",
      "h_player_6_id                 140838 non-null category\n",
      "h_player_6_name               140838 non-null category\n",
      "h_player_7_id                 140838 non-null category\n",
      "h_player_7_name               140838 non-null category\n",
      "h_player_8_id                 140838 non-null category\n",
      "h_player_8_name               140838 non-null category\n",
      "h_player_9_id                 140838 non-null category\n",
      "h_player_9_name               140838 non-null category\n",
      "additional_info               1456 non-null object\n",
      "acquisition_info              140841 non-null category\n",
      "dtypes: category(70), object(8)\n",
      "memory usage: 97.3 MB\n"
     ]
    }
   ],
   "source": [
    "# New memory size\n",
    "\n",
    "df_obj.info(memory_usage=\"deep\")\n",
    "# memory usage: 97.3 MB -> significant reduction"
   ]
  },
  {
   "cell_type": "code",
   "execution_count": null,
   "metadata": {},
   "outputs": [],
   "source": [
    "# Speed up routine\n",
    "\n",
    "# use dtype when reading the csv, change type to category"
   ]
  }
 ],
 "metadata": {
  "kernelspec": {
   "display_name": "Python 3",
   "language": "python",
   "name": "python3"
  },
  "language_info": {
   "codemirror_mode": {
    "name": "ipython",
    "version": 3
   },
   "file_extension": ".py",
   "mimetype": "text/x-python",
   "name": "python",
   "nbconvert_exporter": "python",
   "pygments_lexer": "ipython3",
   "version": "3.7.1"
  }
 },
 "nbformat": 4,
 "nbformat_minor": 2
}
