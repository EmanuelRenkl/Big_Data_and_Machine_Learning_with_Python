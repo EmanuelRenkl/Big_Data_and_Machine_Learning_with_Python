{
 "cells": [
  {
   "cell_type": "markdown",
   "metadata": {},
   "source": [
    "# Solution for NLP"
   ]
  },
  {
   "cell_type": "code",
   "execution_count": null,
   "metadata": {},
   "outputs": [],
   "source": [
    "%matplotlib inline"
   ]
  },
  {
   "cell_type": "markdown",
   "metadata": {},
   "source": [
    "## Speeches I"
   ]
  },
  {
   "cell_type": "code",
   "execution_count": null,
   "metadata": {},
   "outputs": [],
   "source": [
    "from glob import glob\n",
    "\n",
    "files = glob(\"./data/speeches/*\")\n",
    "corpus = []\n",
    "for f in files:\n",
    "    try:\n",
    "        with open(f, \"rb\") as inf:\n",
    "            text = inf.readlines()[0]\n",
    "            corpus.append(text.decode(\"utf8\"))\n",
    "    except:\n",
    "        print(f)\n",
    "        continue"
   ]
  },
  {
   "cell_type": "code",
   "execution_count": null,
   "metadata": {},
   "outputs": [],
   "source": [
    "from string import digits, punctuation\n",
    "\n",
    "import nltk\n",
    "from sklearn.feature_extraction.text import TfidfVectorizer\n",
    "\n",
    "_remove = digits + punctuation\n",
    "_stopwords = nltk.corpus.stopwords.words('english')\n",
    "_stemmer = nltk.snowball.SnowballStemmer('english')\n",
    "\n",
    "\n",
    "def tokenize_and_stem(text):\n",
    "    \"\"\"Return tokens of text deprived of numbers and interpunctuation.\"\"\"\n",
    "    text = text.translate(str.maketrans({p: \"\" for p in _remove}))\n",
    "    return [_stemmer.stem(t) for t in nltk.word_tokenize(text.lower())]\n",
    "\n",
    "\n",
    "vectorizer = TfidfVectorizer(stop_words=_stopwords, tokenizer=tokenize_and_stem, ngram_range=(1,3))\n",
    "tfidf_matrix = vectorizer.fit_transform(corpus)\n",
    "terms = vectorizer.get_feature_names()"
   ]
  },
  {
   "cell_type": "code",
   "execution_count": null,
   "metadata": {},
   "outputs": [],
   "source": [
    "from pickle import dump\n",
    "\n",
    "from pandas import DataFrame\n",
    "\n",
    "with open(\"./out/speech_matrix.pk\", \"wb\") as ouf:\n",
    "    dump(tfidf_matrix, ouf)\n",
    "\n",
    "terms = DataFrame(terms)\n",
    "terms.columns = [\"terms\"]\n",
    "terms.to_csv('./out/terms.csv')"
   ]
  },
  {
   "cell_type": "markdown",
   "metadata": {},
   "source": [
    "## Speeches II"
   ]
  },
  {
   "cell_type": "code",
   "execution_count": null,
   "metadata": {},
   "outputs": [],
   "source": [
    "from pickle import load\n",
    "\n",
    "with open(\"./out/speech_matrix.pk\", \"rb\") as inf:\n",
    "    tfidf_matrix = load(inf)"
   ]
  },
  {
   "cell_type": "code",
   "execution_count": null,
   "metadata": {},
   "outputs": [],
   "source": [
    "import matplotlib.pyplot as plt\n",
    "from scipy.cluster.hierarchy import ward, dendrogram\n",
    "\n",
    "linkage_matrix = ward(tfidf_matrix.todense())\n",
    "plt.figure(figsize=(10, 5))\n",
    "dendrogram(linkage_matrix)\n",
    "plt.show()"
   ]
  },
  {
   "cell_type": "markdown",
   "metadata": {},
   "source": [
    "## Speeches III"
   ]
  },
  {
   "cell_type": "code",
   "execution_count": null,
   "metadata": {},
   "outputs": [],
   "source": [
    "from pickle import load\n",
    "\n",
    "import pandas as pd\n",
    "\n",
    "with open(\"./out/speech_matrix.pk\", \"rb\") as inf:\n",
    "    tfidf_matrix = load(inf)\n",
    "\n",
    "terms = pd.read_csv(\"./out/terms.csv\", index_col=0)[\"terms\"]"
   ]
  },
  {
   "cell_type": "code",
   "execution_count": null,
   "metadata": {},
   "outputs": [],
   "source": [
    "from sklearn.decomposition import LatentDirichletAllocation as LDA\n",
    "\n",
    "lda = LDA(n_components=2, learning_method='online', random_state=0, verbose=0)\n",
    "lda.fit(tfidf_matrix)"
   ]
  },
  {
   "cell_type": "code",
   "execution_count": null,
   "metadata": {},
   "outputs": [],
   "source": [
    "N_WORDS = 10\n",
    "for idx, topic_dist in enumerate(lda.components_):\n",
    "    name = \", \".join(terms[i] for i in topic_dist.argsort()[:-N_WORDS:-1])\n",
    "    print(idx, \":\", name)"
   ]
  },
  {
   "cell_type": "markdown",
   "metadata": {},
   "source": [
    "## Predicting newsgroups"
   ]
  },
  {
   "cell_type": "code",
   "execution_count": null,
   "metadata": {},
   "outputs": [],
   "source": [
    "from sklearn.datasets import fetch_20newsgroups\n",
    "\n",
    "topics = ['sci.crypt', 'sci.electronics', 'sci.med', 'sci.space']\n",
    "data = fetch_20newsgroups(subset='train', categories=topics, shuffle=True)\n",
    "\n",
    "X_train = data.data\n",
    "y_train = data.target"
   ]
  },
  {
   "cell_type": "code",
   "execution_count": null,
   "metadata": {},
   "outputs": [],
   "source": [
    "dir(data)"
   ]
  },
  {
   "cell_type": "code",
   "execution_count": null,
   "metadata": {},
   "outputs": [],
   "source": [
    "from string import digits, punctuation\n",
    "\n",
    "import nltk\n",
    "from sklearn.feature_extraction.text import TfidfVectorizer\n",
    "from sklearn.pipeline import Pipeline\n",
    "from sklearn.naive_bayes import MultinomialNB\n",
    "\n",
    "_remove = digits + punctuation\n",
    "_stopwords = nltk.corpus.stopwords.words('english')\n",
    "_stemmer = nltk.snowball.SnowballStemmer('english')\n",
    "\n",
    "def tokenize_and_stem(text):\n",
    "    \"\"\"Return tokens of text deprived of numbers and interpunctuation.\"\"\"\n",
    "    text = text.translate(str.maketrans({p: \"\" for p in _remove}))\n",
    "    return [_stemmer.stem(t) for t in nltk.word_tokenize(text.lower())]\n",
    "\n",
    "pipe = Pipeline([('tfidf', TfidfVectorizer(stop_words=_stopwords, tokenizer=tokenize_and_stem)),\n",
    "                ('mnb', MultinomialNB())])"
   ]
  },
  {
   "cell_type": "code",
   "execution_count": null,
   "metadata": {},
   "outputs": [],
   "source": [
    "from sklearn.model_selection import GridSearchCV\n",
    "\n",
    "params = {'mnb__alpha': (1e-2, 1e-3)}\n",
    "mnb = GridSearchCV(pipe, params, cv=2, n_jobs=-1)\n",
    "mnb.fit(X_train, y_train)"
   ]
  },
  {
   "cell_type": "code",
   "execution_count": null,
   "metadata": {},
   "outputs": [],
   "source": [
    "test = fetch_20newsgroups(subset='test', categories=topics, shuffle=True)\n",
    "\n",
    "X_test = test.data\n",
    "y_test = test.target"
   ]
  },
  {
   "cell_type": "code",
   "execution_count": null,
   "metadata": {},
   "outputs": [],
   "source": [
    "best = mnb.best_estimator_\n",
    "preds = best.predict(X_test)"
   ]
  },
  {
   "cell_type": "code",
   "execution_count": null,
   "metadata": {},
   "outputs": [],
   "source": [
    "from sklearn.metrics import classification_report\n",
    "\n",
    "print(classification_report(y_test, preds, target_names=topics))"
   ]
  }
 ],
 "metadata": {
  "kernelspec": {
   "display_name": "Python 3",
   "language": "python",
   "name": "python3"
  },
  "language_info": {
   "codemirror_mode": {
    "name": "ipython",
    "version": 3
   },
   "file_extension": ".py",
   "mimetype": "text/x-python",
   "name": "python",
   "nbconvert_exporter": "python",
   "pygments_lexer": "ipython3",
   "version": "3.7.2"
  }
 },
 "nbformat": 4,
 "nbformat_minor": 2
}
