{
 "cells": [
  {
   "cell_type": "code",
   "execution_count": null,
   "metadata": {},
   "outputs": [],
   "source": [
    "\n",
    "\n",
    "print(df.tail(25))\n",
    "print(df.head(10))\n",
    "print(df.info())\n",
    "\n",
    "print(df[\"\"].nunique())\n",
    "print(df[\"\"].value_counts().index[0])\n",
    "\n",
    "\n",
    "counts = df[age].value_counts()\n",
    "print(counts)\n",
    "\n",
    "min_value = counts.min()\n",
    "print(counts)\n",
    "\n",
    "df[\"occupation\"].value_counts().sort.index.boxplot\n",
    "\n",
    "sns.catplot(x = continentt, y= consumption, ...)\n",
    "\n"
   ]
  }
 ],
 "metadata": {
  "kernelspec": {
   "display_name": "Python 3",
   "language": "python",
   "name": "python3"
  },
  "language_info": {
   "codemirror_mode": {
    "name": "ipython",
    "version": 3
   },
   "file_extension": ".py",
   "mimetype": "text/x-python",
   "name": "python",
   "nbconvert_exporter": "python",
   "pygments_lexer": "ipython3",
   "version": "3.6.4"
  }
 },
 "nbformat": 4,
 "nbformat_minor": 2
}
