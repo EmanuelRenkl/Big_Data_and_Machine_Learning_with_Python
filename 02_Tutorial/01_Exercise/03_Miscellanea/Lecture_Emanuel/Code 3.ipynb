{
 "cells": [
  {
   "cell_type": "code",
   "execution_count": 6,
   "metadata": {},
   "outputs": [],
   "source": [
    "import pandas as pd"
   ]
  },
  {
   "cell_type": "code",
   "execution_count": 7,
   "metadata": {},
   "outputs": [],
   "source": [
    "d = {'employee': ['Hannes', 'Fabiana', 'George','Olga'],'group':['Accounting','Engineering','Engineering','HR']}"
   ]
  },
  {
   "cell_type": "code",
   "execution_count": 8,
   "metadata": {},
   "outputs": [],
   "source": [
    "df1 = pd.DataFrame.from_dict(d)"
   ]
  },
  {
   "cell_type": "code",
   "execution_count": 9,
   "metadata": {},
   "outputs": [],
   "source": [
    "t = [('Hannes',2004),('Fabiana',2008),('George',2012),('Olga',2014)]"
   ]
  },
  {
   "cell_type": "code",
   "execution_count": 12,
   "metadata": {},
   "outputs": [],
   "source": [
    "df2 = pd.DataFrame.from_records(t,columns=['employee','hire_date'])"
   ]
  },
  {
   "cell_type": "code",
   "execution_count": 13,
   "metadata": {},
   "outputs": [
    {
     "name": "stderr",
     "output_type": "stream",
     "text": [
      "/anaconda3/lib/python3.6/site-packages/pandas/core/frame.py:6692: FutureWarning: Sorting because non-concatenation axis is not aligned. A future version\n",
      "of pandas will change to not sort by default.\n",
      "\n",
      "To accept the future behavior, pass 'sort=False'.\n",
      "\n",
      "To retain the current behavior and silence the warning, pass 'sort=True'.\n",
      "\n",
      "  sort=sort)\n"
     ]
    }
   ],
   "source": [
    "df3 = df1.append(df2)"
   ]
  },
  {
   "cell_type": "code",
   "execution_count": 14,
   "metadata": {},
   "outputs": [
    {
     "name": "stdout",
     "output_type": "stream",
     "text": [
      "  employee  hire_date\n",
      "0   Hannes       2004\n",
      "1  Fabiana       2008\n",
      "2   George       2012\n",
      "3     Olga       2014\n"
     ]
    }
   ],
   "source": [
    "print(df2)"
   ]
  },
  {
   "cell_type": "code",
   "execution_count": 15,
   "metadata": {},
   "outputs": [
    {
     "name": "stdout",
     "output_type": "stream",
     "text": [
      "  employee        group\n",
      "0   Hannes   Accounting\n",
      "1  Fabiana  Engineering\n",
      "2   George  Engineering\n",
      "3     Olga           HR\n"
     ]
    }
   ],
   "source": [
    "print(df1)"
   ]
  },
  {
   "cell_type": "code",
   "execution_count": 16,
   "metadata": {},
   "outputs": [
    {
     "name": "stdout",
     "output_type": "stream",
     "text": [
      "{'employee': ['Hannes', 'Fabiana', 'George', 'Olga'], 'group': ['Accounting', 'Engineering', 'Engineering', 'HR']}\n"
     ]
    }
   ],
   "source": [
    "print(d)"
   ]
  },
  {
   "cell_type": "code",
   "execution_count": 17,
   "metadata": {},
   "outputs": [
    {
     "name": "stdout",
     "output_type": "stream",
     "text": [
      "[('Hannes', 2004), ('Fabiana', 2008), ('George', 2012), ('Olga', 2014)]\n"
     ]
    }
   ],
   "source": [
    "print(t)"
   ]
  },
  {
   "cell_type": "code",
   "execution_count": 18,
   "metadata": {},
   "outputs": [
    {
     "name": "stdout",
     "output_type": "stream",
     "text": [
      "  employee        group  hire_date\n",
      "0   Hannes   Accounting        NaN\n",
      "1  Fabiana  Engineering        NaN\n",
      "2   George  Engineering        NaN\n",
      "3     Olga           HR        NaN\n",
      "0   Hannes          NaN     2004.0\n",
      "1  Fabiana          NaN     2008.0\n",
      "2   George          NaN     2012.0\n",
      "3     Olga          NaN     2014.0\n"
     ]
    }
   ],
   "source": [
    "print(df3)"
   ]
  },
  {
   "cell_type": "code",
   "execution_count": 19,
   "metadata": {},
   "outputs": [
    {
     "name": "stderr",
     "output_type": "stream",
     "text": [
      "/anaconda3/lib/python3.6/site-packages/ipykernel_launcher.py:1: FutureWarning: Sorting because non-concatenation axis is not aligned. A future version\n",
      "of pandas will change to not sort by default.\n",
      "\n",
      "To accept the future behavior, pass 'sort=False'.\n",
      "\n",
      "To retain the current behavior and silence the warning, pass 'sort=True'.\n",
      "\n",
      "  \"\"\"Entry point for launching an IPython kernel.\n"
     ]
    }
   ],
   "source": [
    "df4 = pd.concat([df1,df2])"
   ]
  },
  {
   "cell_type": "code",
   "execution_count": 20,
   "metadata": {},
   "outputs": [
    {
     "name": "stdout",
     "output_type": "stream",
     "text": [
      "  employee        group  hire_date\n",
      "0   Hannes   Accounting        NaN\n",
      "1  Fabiana  Engineering        NaN\n",
      "2   George  Engineering        NaN\n",
      "3     Olga           HR        NaN\n",
      "0   Hannes          NaN     2004.0\n",
      "1  Fabiana          NaN     2008.0\n",
      "2   George          NaN     2012.0\n",
      "3     Olga          NaN     2014.0\n"
     ]
    }
   ],
   "source": [
    "print(df4)"
   ]
  },
  {
   "cell_type": "code",
   "execution_count": 22,
   "metadata": {},
   "outputs": [],
   "source": [
    "df5 = pd.concat([df1, df2], axis=1)"
   ]
  },
  {
   "cell_type": "code",
   "execution_count": 23,
   "metadata": {},
   "outputs": [
    {
     "name": "stdout",
     "output_type": "stream",
     "text": [
      "  employee        group employee  hire_date\n",
      "0   Hannes   Accounting   Hannes       2004\n",
      "1  Fabiana  Engineering  Fabiana       2008\n",
      "2   George  Engineering   George       2012\n",
      "3     Olga           HR     Olga       2014\n"
     ]
    }
   ],
   "source": [
    "print(df5)"
   ]
  },
  {
   "cell_type": "code",
   "execution_count": 24,
   "metadata": {},
   "outputs": [],
   "source": [
    "df6 = df1.merge(df2, left_on=\"employee\", right_on=\"employee\")"
   ]
  },
  {
   "cell_type": "code",
   "execution_count": 25,
   "metadata": {},
   "outputs": [
    {
     "name": "stdout",
     "output_type": "stream",
     "text": [
      "  employee        group  hire_date\n",
      "0   Hannes   Accounting       2004\n",
      "1  Fabiana  Engineering       2008\n",
      "2   George  Engineering       2012\n",
      "3     Olga           HR       2014\n"
     ]
    }
   ],
   "source": [
    "print(df6)"
   ]
  },
  {
   "cell_type": "code",
   "execution_count": 27,
   "metadata": {},
   "outputs": [],
   "source": [
    "pivoted = df6.pivot(index='employee',columns='group', values='hire_date')"
   ]
  },
  {
   "cell_type": "code",
   "execution_count": 28,
   "metadata": {},
   "outputs": [
    {
     "name": "stdout",
     "output_type": "stream",
     "text": [
      "group     Accounting  Engineering      HR\n",
      "employee                                 \n",
      "Fabiana          NaN       2008.0     NaN\n",
      "George           NaN       2012.0     NaN\n",
      "Hannes        2004.0          NaN     NaN\n",
      "Olga             NaN          NaN  2014.0\n"
     ]
    }
   ],
   "source": [
    "print(pivoted)"
   ]
  },
  {
   "cell_type": "code",
   "execution_count": 29,
   "metadata": {},
   "outputs": [],
   "source": [
    "reverse = pivoted.reset_index().melt(id_vars=\"employee\",value_name=\"hire_date\")"
   ]
  },
  {
   "cell_type": "code",
   "execution_count": 30,
   "metadata": {},
   "outputs": [
    {
     "name": "stdout",
     "output_type": "stream",
     "text": [
      "   employee        group  hire_date\n",
      "0   Fabiana   Accounting        NaN\n",
      "1    George   Accounting        NaN\n",
      "2    Hannes   Accounting     2004.0\n",
      "3      Olga   Accounting        NaN\n",
      "4   Fabiana  Engineering     2008.0\n",
      "5    George  Engineering     2012.0\n",
      "6    Hannes  Engineering        NaN\n",
      "7      Olga  Engineering        NaN\n",
      "8   Fabiana           HR        NaN\n",
      "9    George           HR        NaN\n",
      "10   Hannes           HR        NaN\n",
      "11     Olga           HR     2014.0\n"
     ]
    }
   ],
   "source": [
    "print(reverse)"
   ]
  },
  {
   "cell_type": "code",
   "execution_count": 31,
   "metadata": {},
   "outputs": [
    {
     "name": "stdout",
     "output_type": "stream",
     "text": [
      "  employee        group  hire_date\n",
      "0   Hannes   Accounting       2004\n",
      "1  Fabiana  Engineering       2008\n",
      "2   George  Engineering       2012\n",
      "3     Olga           HR       2014\n"
     ]
    }
   ],
   "source": [
    "print(df6)"
   ]
  },
  {
   "cell_type": "code",
   "execution_count": null,
   "metadata": {},
   "outputs": [],
   "source": []
  },
  {
   "cell_type": "code",
   "execution_count": null,
   "metadata": {},
   "outputs": [],
   "source": []
  },
  {
   "cell_type": "code",
   "execution_count": null,
   "metadata": {},
   "outputs": [],
   "source": []
  },
  {
   "cell_type": "code",
   "execution_count": null,
   "metadata": {},
   "outputs": [],
   "source": []
  }
 ],
 "metadata": {
  "kernelspec": {
   "display_name": "Python 3",
   "language": "python",
   "name": "python3"
  },
  "language_info": {
   "codemirror_mode": {
    "name": "ipython",
    "version": 3
   },
   "file_extension": ".py",
   "mimetype": "text/x-python",
   "name": "python",
   "nbconvert_exporter": "python",
   "pygments_lexer": "ipython3",
   "version": "3.6.4"
  }
 },
 "nbformat": 4,
 "nbformat_minor": 2
}
