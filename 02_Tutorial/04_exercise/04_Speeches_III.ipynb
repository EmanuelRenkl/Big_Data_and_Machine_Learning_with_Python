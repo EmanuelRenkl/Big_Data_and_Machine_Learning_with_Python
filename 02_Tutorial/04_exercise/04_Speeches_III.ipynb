{
 "cells": [
  {
   "cell_type": "code",
   "execution_count": 7,
   "metadata": {},
   "outputs": [],
   "source": [
    "# Read the count-matrix from exercise ”Speeches I” (./out/speech_matrix.pk)\n",
    "# using pickle.load().\n",
    "\n",
    "%matplotlib inline\n",
    "import numpy as np\n",
    "import pandas as pd\n",
    "import matplotlib.pyplot as plt\n",
    "import seaborn as sns\n",
    "\n",
    "import pickle\n",
    "\n",
    "fl = open(\"02_Output/speech_matrix.pk\", 'rb')\n",
    "speech_matrix = pickle.load(fl)"
   ]
  },
  {
   "cell_type": "code",
   "execution_count": 5,
   "metadata": {},
   "outputs": [
    {
     "name": "stdout",
     "output_type": "stream",
     "text": [
      "[0, 0, 0, 0, 0, 0, 0, 0, 0, 0, 0, 0, 0, 0, 0, 0, 0, 0, 0, 0, 0, 0, 0]\n",
      "[[0.97929259 0.02070741]\n",
      " [0.97051516 0.02948484]\n",
      " [0.97916449 0.02083551]\n",
      " [0.9700056  0.0299944 ]\n",
      " [0.97731358 0.02268642]\n",
      " [0.9811148  0.0188852 ]\n",
      " [0.97796316 0.02203684]\n",
      " [0.93313264 0.06686736]\n",
      " [0.98095808 0.01904192]\n",
      " [0.96084165 0.03915835]\n",
      " [0.92453471 0.07546529]\n",
      " [0.96178042 0.03821958]\n",
      " [0.93319687 0.06680313]\n",
      " [0.95989169 0.04010831]\n",
      " [0.97257309 0.02742691]\n",
      " [0.97255276 0.02744724]\n",
      " [0.96402007 0.03597993]\n",
      " [0.96690989 0.03309011]\n",
      " [0.97006013 0.02993987]\n",
      " [0.96895657 0.03104343]\n",
      " [0.97685879 0.02314121]\n",
      " [0.97058391 0.02941609]\n",
      " [0.9546996  0.0453004 ]]\n"
     ]
    }
   ],
   "source": [
    "# Perform an LDA with 2 topics. How would you name these topics?\n",
    "\n",
    "from sklearn.decomposition import LatentDirichletAllocation as LDA\n",
    "\n",
    "N_TOPICS = 2\n",
    "lda = LDA(n_components=N_TOPICS, learning_method='online')\n",
    "topic_matrix = lda.fit_transform(speech_matrix)\n",
    "keys = topic_matrix.argmax(axis=1).tolist()  # Clusters/Topics\n",
    "\n",
    "print(keys)\n",
    "print(topic_matrix)"
   ]
  }
 ],
 "metadata": {
  "kernelspec": {
   "display_name": "Python 3",
   "language": "python",
   "name": "python3"
  },
  "language_info": {
   "codemirror_mode": {
    "name": "ipython",
    "version": 3
   },
   "file_extension": ".py",
   "mimetype": "text/x-python",
   "name": "python",
   "nbconvert_exporter": "python",
   "pygments_lexer": "ipython3",
   "version": "3.6.4"
  }
 },
 "nbformat": 4,
 "nbformat_minor": 2
}
