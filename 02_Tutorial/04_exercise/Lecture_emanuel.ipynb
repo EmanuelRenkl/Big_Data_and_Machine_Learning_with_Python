{
 "cells": [
  {
   "cell_type": "code",
   "execution_count": null,
   "metadata": {},
   "outputs": [],
   "source": [
    "import nltk\n",
    "nltk.download()"
   ]
  },
  {
   "cell_type": "code",
   "execution_count": 7,
   "metadata": {},
   "outputs": [],
   "source": [
    "FNAME = \"01_Data/speeches/R120727D\""
   ]
  },
  {
   "cell_type": "code",
   "execution_count": 8,
   "metadata": {},
   "outputs": [
    {
     "data": {
      "text/plain": [
       "['(…) I ASKED MYSELF WHAT SORT OF MESSAGE I WANT TO GIVE TO YOU; I WOULDN\\'T USE THE WORD \"SELL\", BUT ACTUALLY I THINK THE BEST THING I COULD DO, IS TO GIVE YOU A CANDID ASSESSMENT OF HOW WE VIEW THE EURO SITUATION FROM FRANKFURT. AND THE FIRST THING THAT CAME TO MIND WAS SOMETHING THAT PEOPLE SAID MANY YEARS AGO AND THEN STOPPED SAYING IT: THE EURO IS LIKE A BUMBLEBEE. THIS IS A MYSTERY OF NATURE BECAUSE IT SHOULDN\\'T FLY BUT INSTEAD IT DOES. SO THE EURO WAS A BUMBLEBEE THAT FLEW VERY WELL FOR SEVERAL YEARS. AND NOW - AND I THINK PEOPLE ASK \"HOW COME?\" - PROBABLY THERE WAS SOMETHING IN THE ATMOSPHERE, IN THE AIR, THAT MADE THE BUMBLEBEE FLY. NOW SOMETHING MUST HAVE CHANGED IN THE AIR, AND WE KNOW WHAT AFTER THE FINANCIAL CRISIS. THE BUMBLEBEE WOULD HAVE TO GRADUATE TO A REAL BEE. AND THAT\\'S WHAT IT\\'S DOING. THE FIRST MESSAGE I WOULD LIKE TO SEND, IS THAT THE EURO IS MUCH, MUCH STRONGER, THE EURO AREA IS MUCH, MUCH STRONGER THAN PEOPLE ACKNOWLEDGE TODAY. NOT ONLY IF YOU LOOK OVER THE LAST 10 YEARS BUT ALSO IF YOU LOOK AT IT NOW, YOU SEE THAT AS FAR AS INFLATION, EMPLOYMENT, PRODUCTIVITY, THE EURO AREA HAS DONE EITHER LIKE OR BETTER THAN US OR JAPAN. THEN THE COMPARISON BECOMES EVEN MORE DRAMATIC WHEN WE COME TO DEFICIT AND DEBT. THE EURO AREA HAS MUCH LOWER DEFICIT, MUCH LOWER DEBT THAN THESE TWO COUNTRIES. AND ALSO NOT LESS IMPORTANT, IT HAS A BALANCED CURRENT ACCOUNT, NO DEFICITS, BUT IT ALSO HAS A DEGREE OF SOCIAL COHESION THAT YOU WOULDN\\'T FIND EITHER IN THE OTHER TWO COUNTRIES. THAT IS A VERY IMPORTANT INGREDIENT FOR UNDERTAKING ALL THE STRUCTURAL REFORMS THAT WILL ACTUALLY GRADUATE THE BUMBLEBEE INTO A REAL BEE. THE SECOND POINT, THE SECOND MESSAGE I WOULD LIKE TO SEND TODAY, IS THAT PROGRESS HAS BEEN EXTRAORDINARY IN THE LAST SIX MONTHS. IF YOU COMPARE TODAY THE EURO AREA MEMBER STATES WITH SIX MONTHS AGO, YOU WILL SEE THAT THE WORLD IS ENTIRELY DIFFERENT TODAY, AND FOR THE BETTER. AND THIS PROGRESS HAS TAKEN DIFFERENT SHAPES. AT NATIONAL LEVEL, BECAUSE OF COURSE, WHILE I WAS SAYING, WHILE I WAS GLORIFYING THE MERITS OF THE EURO, YOU WERE THINKING \"BUT THAT\\'S AN AVERAGE!\", AND \"IN FACT COUNTRIES DIVERGE SO MUCH WITHIN THE EURO AREA, THAT AVERAGES ARE NOT REPRESENTATIVE ANY LONGER, WHEN THE VARIANCE IS SO BIG\". BUT I WOULD SAY THAT OVER THE LAST SIX MONTHS, THIS AVERAGE, WELL THE VARIANCES TEND TO DECREASE AND COUNTRIES TEND TO CONVERGE MUCH MORE THAN THEY HAVE DONE IN MANY YEARS - BOTH AT NATIONAL LEVEL, IN COUNTRIES LIKE PORTUGAL, IRELAND AND COUNTRIES THAT ARE NOT IN THE PROGRAMME, LIKE SPAIN AND ITALY. THE PROGRESS IN UNDERTAKING DEFICIT CONTROL, STRUCTURAL REFORMS HAS BEEN REMARKABLE. AND THEY WILL HAVE TO CONTINUE TO DO SO. BUT THE PACE HAS BEEN SET AND ALL THE SIGNALS THAT WE GET IS THAT THEY DON\\'T RELENT, STOP REFORMING THEMSELVES. IT\\'S A COMPLEX PROCESS BECAUSE FOR MANY YEARS, VERY LITTLE WAS DONE - I WILL COME TO THIS IN A MOMENT. BUT A LOT OF PROGRESS HAS BEEN DONE AT SUPRANATIONAL LEVEL. THAT\\'S WHY I ALWAYS SAY THAT THE LAST SUMMIT WAS A REAL SUCCESS. THE LAST SUMMIT WAS A REAL SUCCESS BECAUSE FOR THE FIRST TIME IN MANY YEARS, ALL THE LEADERS OF THE 27 COUNTRIES OF EUROPE, INCLUDING UK ETC., SAID THAT THE ONLY WAY OUT OF THIS PRESENT CRISIS IS TO HAVE MORE EUROPE, NOT LESS EUROPE. A EUROPE THAT IS FOUNDED ON FOUR BUILDING BLOCKS: A FISCAL UNION, A FINANCIAL UNION, AN ECONOMIC UNION AND A POLITICAL UNION. THESE BLOCKS, IN TWO WORDS - WE CAN CONTINUE DISCUSSING THIS LATER - MEAN THAT MUCH MORE OF WHAT IS NATIONAL SOVEREIGNTY IS GOING TO BE EXERCISED AT SUPRANATIONAL LEVEL, THAT COMMON FISCAL RULES WILL BIND GOVERNMENT ACTIONS ON THE FISCAL SIDE. THEN IN THE BANKING UNION OR FINANCIAL MARKETS UNION, WE WILL HAVE ONE SUPERVISOR FOR THE WHOLE EURO AREA. AND TO SHOW THAT THERE IS FULL DETERMINATION TO MOVE AHEAD AND THESE ARE NOT JUST EMPTY WORDS, THE EUROPEAN COMMISSION WILL PRESENT A PROPOSAL FOR THE SUPERVISOR IN EARLY SEPTEMBER. SO IN A MONTH. AND I THINK I CAN SAY THAT WORKS ARE QUITE ADVANCED IN THIS DIRECTION. SO MORE EUROPE, BUT ALSO THE VARIOUS FIREWALLS HAVE BEEN GIVEN ATTENTION AND NOW THEY ARE READY TO WORK MUCH BETTER THAN IN THE PAST. THE SECOND MESSAGE IS THAT THERE IS MORE PROGRESS THAN IT HAS BEEN ACKNOWLEDGED. BUT THE THIRD POINT I WANT TO MAKE IS IN A SENSE MORE POLITICAL. WHEN PEOPLE TALK ABOUT THE FRAGILITY OF THE EURO AND THE INCREASING FRAGILITY OF THE EURO, AND PERHAPS THE CRISIS OF THE EURO, VERY OFTEN NON-EURO AREA MEMBER STATES OR LEADERS, UNDERESTIMATE THE AMOUNT OF POLITICAL CAPITAL THAT IS BEING INVESTED IN THE EURO. AND SO WE VIEW THIS, AND I DO NOT THINK WE ARE UNBIASED OBSERVERS, WE THINK THE EURO IS IRREVERSIBLE. AND IT\\'S NOT AN EMPTY WORD NOW, BECAUSE I PRECEDED SAYING EXACTLY WHAT ACTIONS HAVE BEEN MADE, ARE BEING MADE TO MAKE IT IRREVERSIBLE. BUT THERE IS ANOTHER MESSAGE I WANT TO TELL YOU. WITHIN OUR MANDATE, THE ECB IS READY TO DO WHATEVER IT TAKES TO PRESERVE THE EURO. AND BELIEVE ME, IT WILL BE ENOUGH. THERE ARE SOME SHORT-TERM CHALLENGES, TO SAY THE LEAST. THE SHORT-TERM CHALLENGES IN OUR VIEW RELATE MOSTLY TO THE FINANCIAL FRAGMENTATION THAT HAS TAKEN PLACE IN THE EURO AREA. INVESTORS RETREATED WITHIN THEIR NATIONAL BOUNDARIES. THE INTERBANK MARKET IS NOT FUNCTIONING. IT IS ONLY FUNCTIONING VERY LITTLE WITHIN EACH COUNTRY BY THE WAY, BUT IT IS CERTAINLY NOT FUNCTIONING ACROSS COUNTRIES. AND I THINK THE KEY STRATEGY POINT HERE IS THAT IF WE WANT TO GET OUT OF THIS CRISIS, WE HAVE TO REPAIR THIS FINANCIAL FRAGMENTATION. THERE ARE AT LEAST TWO DIMENSIONS TO THIS. THE INTERBANK MARKET IS NOT FUNCTIONING, BECAUSE FOR ANY BANK IN THE WORLD THE CURRENT LIQUIDITY REGULATIONS MAKE - TO LEND TO OTHER BANKS OR BORROW FROM OTHER BANKS - A MONEY LOSING PROPOSITION. SO THE FIRST REASON IS THAT REGULATION HAS TO BE RECALIBRATED COMPLETELY. THE SECOND POINT IS IN A SENSE A COLLECTIVE ACTION PROBLEM: BECAUSE NATIONAL SUPERVISORS, LOOKING AT THE CRISIS, HAVE ASKED THEIR BANKS, THE BANKS UNDER THEIR SUPERVISION, TO WITHDRAW THEIR ACTIVITIES WITHIN NATIONAL BOUNDARIES. AND THEY RING FENCED LIQUIDITY POSITIONS SO LIQUIDITY CAN\\'T FLOW, EVEN ACROSS THE SAME HOLDING GROUP BECAUSE THE FINANCIAL SECTOR SUPERVISORS ARE SAYING \"NO\". SO EVEN THOUGH EACH ONE OF THEM MAY BE RIGHT, COLLECTIVELY THEY HAVE BEEN WRONG. AND THIS SITUATION WILL HAVE TO BE OVERCOME OF COURSE. AND THEN THERE IS A RISK AVERSION FACTOR. RISK AVERSION HAS TO DO WITH COUNTERPARTY RISK. NOW TO THE EXTENT THAT I THINK MY COUNTERPARTY IS GOING TO DEFAULT, I AM NOT GOING TO LEND TO THIS COUNTERPARTY. BUT IT CAN BE BECAUSE IT IS SHORT OF FUNDING. AND I THINK WE TOOK CARE OF THAT WITH THE TWO BIG LTROS WHERE WE INJECTED HALF A TRILLION OF NET LIQUIDITY INTO THE EURO AREA BANKS. WE TOOK CARE OF THAT. THEN YOU HAVE THE COUNTERPARTY RECESS RELATED TO THE PERCEPTION THAT MY COUNTERPARTY CAN FAIL BECAUSE OF LACK OF CAPITAL. WE CAN DO LITTLE ABOUT THAT. THEN THERE\\'S ANOTHER DIMENSION TO THIS THAT HAS TO DO WITH THE PREMIA THAT ARE BEING CHARGED ON SOVEREIGN STATES BORROWINGS. THESE PREMIA HAVE TO, AS I SAID, WITH DEFAULT, WITH LIQUIDITY, BUT THEY ALSO HAVE TO DO MORE AND MORE WITH CONVERTIBILITY, WITH THE RISK OF CONVERTIBILITY. NOW TO THE EXTENT THAT THESE PREMIA DO NOT HAVE TO DO WITH FACTORS INHERENT TO MY COUNTERPARTY - THEY COME INTO OUR MANDATE. THEY COME WITHIN OUR REMIT. TO THE EXTENT THAT THE SIZE OF THESE SOVEREIGN PREMIA HAMPERS THE FUNCTIONING OF THE MONETARY POLICY TRANSMISSION CHANNEL, THEY COME WITHIN OUR MANDATE. SO WE HAVE TO COPE WITH THIS FINANCIAL FRAGMENTATION ADDRESSING THESE ISSUES. I THINK I WILL STOP HERE; I THINK MY ASSESSMENT WAS CANDID AND FRANK ENOUGH. THANK YOU.']"
      ]
     },
     "execution_count": 8,
     "metadata": {},
     "output_type": "execute_result"
    }
   ],
   "source": [
    "with open(FNAME, \"r\") as inf:\n",
    "    text = inf.readlines()\n",
    "    \n",
    "text"
   ]
  },
  {
   "cell_type": "code",
   "execution_count": 10,
   "metadata": {},
   "outputs": [
    {
     "name": "stdout",
     "output_type": "stream",
     "text": [
      "['i', 'me', 'my', 'myself', 'we', 'our', 'ours', 'ourselves', 'you', \"you're\", \"you've\", \"you'll\", \"you'd\", 'your', 'yours', 'yourself', 'yourselves', 'he', 'him', 'his', 'himself', 'she', \"she's\", 'her', 'hers', 'herself', 'it', \"it's\", 'its', 'itself', 'they', 'them', 'their', 'theirs', 'themselves', 'what', 'which', 'who', 'whom', 'this', 'that', \"that'll\", 'these', 'those', 'am', 'is', 'are', 'was', 'were', 'be', 'been', 'being', 'have', 'has', 'had', 'having', 'do', 'does', 'did', 'doing', 'a', 'an', 'the', 'and', 'but', 'if', 'or', 'because', 'as', 'until', 'while', 'of', 'at', 'by', 'for', 'with', 'about', 'against', 'between', 'into', 'through', 'during', 'before', 'after', 'above', 'below', 'to', 'from', 'up', 'down', 'in', 'out', 'on', 'off', 'over', 'under', 'again', 'further', 'then', 'once', 'here', 'there', 'when', 'where', 'why', 'how', 'all', 'any', 'both', 'each', 'few', 'more', 'most', 'other', 'some', 'such', 'no', 'nor', 'not', 'only', 'own', 'same', 'so', 'than', 'too', 'very', 's', 't', 'can', 'will', 'just', 'don', \"don't\", 'should', \"should've\", 'now', 'd', 'll', 'm', 'o', 're', 've', 'y', 'ain', 'aren', \"aren't\", 'couldn', \"couldn't\", 'didn', \"didn't\", 'doesn', \"doesn't\", 'hadn', \"hadn't\", 'hasn', \"hasn't\", 'haven', \"haven't\", 'isn', \"isn't\", 'ma', 'mightn', \"mightn't\", 'mustn', \"mustn't\", 'needn', \"needn't\", 'shan', \"shan't\", 'shouldn', \"shouldn't\", 'wasn', \"wasn't\", 'weren', \"weren't\", 'won', \"won't\", 'wouldn', \"wouldn't\"]\n"
     ]
    }
   ],
   "source": [
    "import nltk\n",
    "_stopwords = nltk.corpus.stopwords.words('english')\n",
    "print(_stopwords)"
   ]
  },
  {
   "cell_type": "code",
   "execution_count": 11,
   "metadata": {},
   "outputs": [
    {
     "data": {
      "text/plain": [
       "'0123456789!\"#$%&\\'()*+,-./:;<=>?@[\\\\]^_`{|}~'"
      ]
     },
     "execution_count": 11,
     "metadata": {},
     "output_type": "execute_result"
    }
   ],
   "source": [
    "from string import digits, punctuation\n",
    "\n",
    "remove = digits + punctuation\n",
    "remove"
   ]
  },
  {
   "cell_type": "code",
   "execution_count": 12,
   "metadata": {},
   "outputs": [],
   "source": [
    "_stemmer = nltk.snowball.SnowballStemmer('english')"
   ]
  },
  {
   "cell_type": "code",
   "execution_count": 13,
   "metadata": {},
   "outputs": [
    {
     "data": {
      "text/plain": [
       "'crisi'"
      ]
     },
     "execution_count": 13,
     "metadata": {},
     "output_type": "execute_result"
    }
   ],
   "source": [
    "_stemmer.stem('crisis')"
   ]
  },
  {
   "cell_type": "code",
   "execution_count": 14,
   "metadata": {},
   "outputs": [
    {
     "data": {
      "text/plain": [
       "'footbal'"
      ]
     },
     "execution_count": 14,
     "metadata": {},
     "output_type": "execute_result"
    }
   ],
   "source": [
    "_stemmer.stem('football')"
   ]
  },
  {
   "cell_type": "code",
   "execution_count": 15,
   "metadata": {},
   "outputs": [
    {
     "data": {
      "text/plain": [
       "'escal'"
      ]
     },
     "execution_count": 15,
     "metadata": {},
     "output_type": "execute_result"
    }
   ],
   "source": [
    "_stemmer.stem('escalation')"
   ]
  },
  {
   "cell_type": "code",
   "execution_count": 16,
   "metadata": {},
   "outputs": [
    {
     "data": {
      "text/plain": [
       "'quantit'"
      ]
     },
     "execution_count": 16,
     "metadata": {},
     "output_type": "execute_result"
    }
   ],
   "source": [
    "_stemmer.stem('quantitative')"
   ]
  },
  {
   "cell_type": "code",
   "execution_count": 17,
   "metadata": {},
   "outputs": [],
   "source": [
    "def tokenize_and_stem(text):\n",
    "    \"\"\"Return tokens of text deprived of numbers and interpunctuation\"\"\"\n",
    "    text = text.translate(str.maketrans({p: \"\" for p in remove}))\n",
    "    return [_stemmer.stem(t) for t in nltk.word_tokenize(text.lower())]"
   ]
  },
  {
   "cell_type": "code",
   "execution_count": 18,
   "metadata": {},
   "outputs": [
    {
     "data": {
      "text/plain": [
       "CountVectorizer(analyzer='word', binary=False, decode_error='strict',\n",
       "        dtype=<class 'numpy.int64'>, encoding='utf-8', input='content',\n",
       "        lowercase=True, max_df=1.0, max_features=None, min_df=1,\n",
       "        ngram_range=(1, 1), preprocessor=None,\n",
       "        stop_words=['i', 'me', 'my', 'myself', 'we', 'our', 'ours', 'ourselves', 'you', \"you're\", \"you've\", \"you'll\", \"you'd\", 'your', 'yours', 'yourself', 'yourselves', 'he', 'him', 'his', 'himself', 'she', \"she's\", 'her', 'hers', 'herself', 'it', \"it's\", 'its', 'itself', 'they', 'them', 'their', 'theirs',... 'shouldn', \"shouldn't\", 'wasn', \"wasn't\", 'weren', \"weren't\", 'won', \"won't\", 'wouldn', \"wouldn't\"],\n",
       "        strip_accents=None, token_pattern='(?u)\\\\b\\\\w\\\\w+\\\\b',\n",
       "        tokenizer=<function tokenize_and_stem at 0x115fe0f28>,\n",
       "        vocabulary=None)"
      ]
     },
     "execution_count": 18,
     "metadata": {},
     "output_type": "execute_result"
    }
   ],
   "source": [
    "from sklearn.feature_extraction.text import CountVectorizer\n",
    "\n",
    "count = CountVectorizer(stop_words = _stopwords, tokenizer = tokenize_and_stem)\n",
    "count.fit(text)"
   ]
  },
  {
   "cell_type": "code",
   "execution_count": 19,
   "metadata": {},
   "outputs": [
    {
     "data": {
      "text/plain": [
       "{'account': 0,\n",
       " 'acknowledg': 1,\n",
       " 'across': 2,\n",
       " 'action': 3,\n",
       " 'activ': 4,\n",
       " 'actual': 5,\n",
       " 'address': 6,\n",
       " 'advanc': 7,\n",
       " 'ago': 8,\n",
       " 'ahead': 9,\n",
       " 'air': 10,\n",
       " 'also': 11,\n",
       " 'alway': 12,\n",
       " 'amount': 13,\n",
       " 'ani': 14,\n",
       " 'anoth': 15,\n",
       " 'area': 16,\n",
       " 'ask': 17,\n",
       " 'assess': 18,\n",
       " 'atmospher': 19,\n",
       " 'attent': 20,\n",
       " 'averag': 21,\n",
       " 'avers': 22,\n",
       " 'balanc': 23,\n",
       " 'bank': 24,\n",
       " 'becaus': 25,\n",
       " 'becom': 26,\n",
       " 'bee': 27,\n",
       " 'believ': 28,\n",
       " 'best': 29,\n",
       " 'better': 30,\n",
       " 'big': 31,\n",
       " 'bind': 32,\n",
       " 'block': 33,\n",
       " 'borrow': 34,\n",
       " 'boundari': 35,\n",
       " 'build': 36,\n",
       " 'bumblebe': 37,\n",
       " 'came': 38,\n",
       " 'candid': 39,\n",
       " 'cant': 40,\n",
       " 'capit': 41,\n",
       " 'care': 42,\n",
       " 'certain': 43,\n",
       " 'challeng': 44,\n",
       " 'chang': 45,\n",
       " 'channel': 46,\n",
       " 'charg': 47,\n",
       " 'cohes': 48,\n",
       " 'collect': 49,\n",
       " 'come': 50,\n",
       " 'commiss': 51,\n",
       " 'common': 52,\n",
       " 'compar': 53,\n",
       " 'comparison': 54,\n",
       " 'complet': 55,\n",
       " 'complex': 56,\n",
       " 'continu': 57,\n",
       " 'control': 58,\n",
       " 'converg': 59,\n",
       " 'convert': 60,\n",
       " 'cope': 61,\n",
       " 'could': 62,\n",
       " 'counterparti': 63,\n",
       " 'countri': 64,\n",
       " 'cours': 65,\n",
       " 'crisi': 66,\n",
       " 'current': 67,\n",
       " 'debt': 68,\n",
       " 'decreas': 69,\n",
       " 'default': 70,\n",
       " 'deficit': 71,\n",
       " 'degre': 72,\n",
       " 'determin': 73,\n",
       " 'differ': 74,\n",
       " 'dimens': 75,\n",
       " 'direct': 76,\n",
       " 'discuss': 77,\n",
       " 'diverg': 78,\n",
       " 'doe': 79,\n",
       " 'done': 80,\n",
       " 'dont': 81,\n",
       " 'dramat': 82,\n",
       " 'earli': 83,\n",
       " 'ecb': 84,\n",
       " 'econom': 85,\n",
       " 'either': 86,\n",
       " 'employ': 87,\n",
       " 'empti': 88,\n",
       " 'enough': 89,\n",
       " 'entir': 90,\n",
       " 'etc': 91,\n",
       " 'euro': 92,\n",
       " 'europ': 93,\n",
       " 'european': 94,\n",
       " 'even': 95,\n",
       " 'exact': 96,\n",
       " 'exercis': 97,\n",
       " 'extent': 98,\n",
       " 'extraordinari': 99,\n",
       " 'fact': 100,\n",
       " 'factor': 101,\n",
       " 'fail': 102,\n",
       " 'far': 103,\n",
       " 'fenc': 104,\n",
       " 'financi': 105,\n",
       " 'find': 106,\n",
       " 'firewal': 107,\n",
       " 'first': 108,\n",
       " 'fiscal': 109,\n",
       " 'flew': 110,\n",
       " 'fli': 111,\n",
       " 'flow': 112,\n",
       " 'found': 113,\n",
       " 'four': 114,\n",
       " 'fragil': 115,\n",
       " 'fragment': 116,\n",
       " 'frank': 117,\n",
       " 'frankfurt': 118,\n",
       " 'full': 119,\n",
       " 'function': 120,\n",
       " 'fund': 121,\n",
       " 'get': 122,\n",
       " 'give': 123,\n",
       " 'given': 124,\n",
       " 'glorifi': 125,\n",
       " 'go': 126,\n",
       " 'govern': 127,\n",
       " 'graduat': 128,\n",
       " 'group': 129,\n",
       " 'half': 130,\n",
       " 'hamper': 131,\n",
       " 'hold': 132,\n",
       " 'import': 133,\n",
       " 'includ': 134,\n",
       " 'increas': 135,\n",
       " 'inflat': 136,\n",
       " 'ingredi': 137,\n",
       " 'inher': 138,\n",
       " 'inject': 139,\n",
       " 'instead': 140,\n",
       " 'interbank': 141,\n",
       " 'invest': 142,\n",
       " 'investor': 143,\n",
       " 'ireland': 144,\n",
       " 'irrevers': 145,\n",
       " 'issu': 146,\n",
       " 'itali': 147,\n",
       " 'japan': 148,\n",
       " 'key': 149,\n",
       " 'know': 150,\n",
       " 'lack': 151,\n",
       " 'last': 152,\n",
       " 'later': 153,\n",
       " 'leader': 154,\n",
       " 'least': 155,\n",
       " 'lend': 156,\n",
       " 'less': 157,\n",
       " 'level': 158,\n",
       " 'like': 159,\n",
       " 'liquid': 160,\n",
       " 'littl': 161,\n",
       " 'longer': 162,\n",
       " 'look': 163,\n",
       " 'lose': 164,\n",
       " 'lot': 165,\n",
       " 'lower': 166,\n",
       " 'ltros': 167,\n",
       " 'made': 168,\n",
       " 'make': 169,\n",
       " 'mandat': 170,\n",
       " 'mani': 171,\n",
       " 'market': 172,\n",
       " 'may': 173,\n",
       " 'mean': 174,\n",
       " 'member': 175,\n",
       " 'merit': 176,\n",
       " 'messag': 177,\n",
       " 'mind': 178,\n",
       " 'moment': 179,\n",
       " 'monetari': 180,\n",
       " 'money': 181,\n",
       " 'month': 182,\n",
       " 'move': 183,\n",
       " 'much': 184,\n",
       " 'must': 185,\n",
       " 'mysteri': 186,\n",
       " 'nation': 187,\n",
       " 'natur': 188,\n",
       " 'net': 189,\n",
       " 'noneuro': 190,\n",
       " 'observ': 191,\n",
       " 'often': 192,\n",
       " 'one': 193,\n",
       " 'onli': 194,\n",
       " 'overcom': 195,\n",
       " 'pace': 196,\n",
       " 'past': 197,\n",
       " 'peopl': 198,\n",
       " 'percept': 199,\n",
       " 'perhap': 200,\n",
       " 'place': 201,\n",
       " 'point': 202,\n",
       " 'polici': 203,\n",
       " 'polit': 204,\n",
       " 'portug': 205,\n",
       " 'posit': 206,\n",
       " 'preced': 207,\n",
       " 'premia': 208,\n",
       " 'present': 209,\n",
       " 'preserv': 210,\n",
       " 'probabl': 211,\n",
       " 'problem': 212,\n",
       " 'process': 213,\n",
       " 'product': 214,\n",
       " 'programm': 215,\n",
       " 'progress': 216,\n",
       " 'propos': 217,\n",
       " 'proposit': 218,\n",
       " 'quit': 219,\n",
       " 'readi': 220,\n",
       " 'real': 221,\n",
       " 'reason': 222,\n",
       " 'recalibr': 223,\n",
       " 'recess': 224,\n",
       " 'reform': 225,\n",
       " 'regul': 226,\n",
       " 'relat': 227,\n",
       " 'relent': 228,\n",
       " 'remark': 229,\n",
       " 'remit': 230,\n",
       " 'repair': 231,\n",
       " 'repres': 232,\n",
       " 'retreat': 233,\n",
       " 'right': 234,\n",
       " 'ring': 235,\n",
       " 'risk': 236,\n",
       " 'rule': 237,\n",
       " 'said': 238,\n",
       " 'say': 239,\n",
       " 'second': 240,\n",
       " 'sector': 241,\n",
       " 'see': 242,\n",
       " 'sell': 243,\n",
       " 'send': 244,\n",
       " 'sens': 245,\n",
       " 'septemb': 246,\n",
       " 'set': 247,\n",
       " 'sever': 248,\n",
       " 'shape': 249,\n",
       " 'short': 250,\n",
       " 'shortterm': 251,\n",
       " 'shouldnt': 252,\n",
       " 'show': 253,\n",
       " 'side': 254,\n",
       " 'signal': 255,\n",
       " 'situat': 256,\n",
       " 'six': 257,\n",
       " 'size': 258,\n",
       " 'social': 259,\n",
       " 'someth': 260,\n",
       " 'sort': 261,\n",
       " 'sovereign': 262,\n",
       " 'sovereignti': 263,\n",
       " 'spain': 264,\n",
       " 'state': 265,\n",
       " 'stop': 266,\n",
       " 'strategi': 267,\n",
       " 'stronger': 268,\n",
       " 'structur': 269,\n",
       " 'success': 270,\n",
       " 'summit': 271,\n",
       " 'supervis': 272,\n",
       " 'supervisor': 273,\n",
       " 'supran': 274,\n",
       " 'take': 275,\n",
       " 'taken': 276,\n",
       " 'talk': 277,\n",
       " 'tell': 278,\n",
       " 'tend': 279,\n",
       " 'thank': 280,\n",
       " 'themselv': 281,\n",
       " 'thing': 282,\n",
       " 'think': 283,\n",
       " 'third': 284,\n",
       " 'though': 285,\n",
       " 'time': 286,\n",
       " 'today': 287,\n",
       " 'took': 288,\n",
       " 'transmiss': 289,\n",
       " 'trillion': 290,\n",
       " 'two': 291,\n",
       " 'uk': 292,\n",
       " 'unbias': 293,\n",
       " 'underestim': 294,\n",
       " 'undertak': 295,\n",
       " 'union': 296,\n",
       " 'us': 297,\n",
       " 'use': 298,\n",
       " 'varianc': 299,\n",
       " 'various': 300,\n",
       " 'veri': 301,\n",
       " 'view': 302,\n",
       " 'want': 303,\n",
       " 'way': 304,\n",
       " 'well': 305,\n",
       " 'whatev': 306,\n",
       " 'whi': 307,\n",
       " 'whole': 308,\n",
       " 'withdraw': 309,\n",
       " 'within': 310,\n",
       " 'word': 311,\n",
       " 'work': 312,\n",
       " 'world': 313,\n",
       " 'would': 314,\n",
       " 'wouldnt': 315,\n",
       " 'wrong': 316,\n",
       " 'year': 317,\n",
       " '…': 318}"
      ]
     },
     "execution_count": 19,
     "metadata": {},
     "output_type": "execute_result"
    }
   ],
   "source": [
    "count.vocabulary_"
   ]
  },
  {
   "cell_type": "code",
   "execution_count": 20,
   "metadata": {},
   "outputs": [
    {
     "data": {
      "text/plain": [
       "<1x319 sparse matrix of type '<class 'numpy.int64'>'\n",
       "\twith 319 stored elements in Compressed Sparse Row format>"
      ]
     },
     "execution_count": 20,
     "metadata": {},
     "output_type": "execute_result"
    }
   ],
   "source": [
    "count_matrix = count.transform(text)\n",
    "count_matrix"
   ]
  },
  {
   "cell_type": "code",
   "execution_count": 25,
   "metadata": {},
   "outputs": [
    {
     "name": "stdout",
     "output_type": "stream",
     "text": [
      "['account', 'acknowledg', 'across', 'action', 'activ', 'actual', 'address', 'advanc', 'ago', 'ahead']\n"
     ]
    }
   ],
   "source": [
    "terms = count.get_feature_names()\n",
    "print(terms[:10])"
   ]
  },
  {
   "cell_type": "code",
   "execution_count": 28,
   "metadata": {},
   "outputs": [
    {
     "data": {
      "text/html": [
       "<div>\n",
       "<style scoped>\n",
       "    .dataframe tbody tr th:only-of-type {\n",
       "        vertical-align: middle;\n",
       "    }\n",
       "\n",
       "    .dataframe tbody tr th {\n",
       "        vertical-align: top;\n",
       "    }\n",
       "\n",
       "    .dataframe thead th {\n",
       "        text-align: right;\n",
       "    }\n",
       "</style>\n",
       "<table border=\"1\" class=\"dataframe\">\n",
       "  <thead>\n",
       "    <tr style=\"text-align: right;\">\n",
       "      <th></th>\n",
       "      <th>Count</th>\n",
       "    </tr>\n",
       "  </thead>\n",
       "  <tbody>\n",
       "    <tr>\n",
       "      <th>account</th>\n",
       "      <td>1</td>\n",
       "    </tr>\n",
       "    <tr>\n",
       "      <th>acknowledg</th>\n",
       "      <td>2</td>\n",
       "    </tr>\n",
       "    <tr>\n",
       "      <th>across</th>\n",
       "      <td>2</td>\n",
       "    </tr>\n",
       "    <tr>\n",
       "      <th>action</th>\n",
       "      <td>3</td>\n",
       "    </tr>\n",
       "    <tr>\n",
       "      <th>activ</th>\n",
       "      <td>1</td>\n",
       "    </tr>\n",
       "    <tr>\n",
       "      <th>actual</th>\n",
       "      <td>2</td>\n",
       "    </tr>\n",
       "    <tr>\n",
       "      <th>address</th>\n",
       "      <td>1</td>\n",
       "    </tr>\n",
       "    <tr>\n",
       "      <th>advanc</th>\n",
       "      <td>1</td>\n",
       "    </tr>\n",
       "    <tr>\n",
       "      <th>ago</th>\n",
       "      <td>2</td>\n",
       "    </tr>\n",
       "    <tr>\n",
       "      <th>ahead</th>\n",
       "      <td>1</td>\n",
       "    </tr>\n",
       "  </tbody>\n",
       "</table>\n",
       "</div>"
      ],
      "text/plain": [
       "            Count\n",
       "account         1\n",
       "acknowledg      2\n",
       "across          2\n",
       "action          3\n",
       "activ           1\n",
       "actual          2\n",
       "address         1\n",
       "advanc          1\n",
       "ago             2\n",
       "ahead           1"
      ]
     },
     "execution_count": 28,
     "metadata": {},
     "output_type": "execute_result"
    }
   ],
   "source": [
    "import pandas as pd\n",
    "df = pd.DataFrame(count_matrix.toarray().T, index = terms, columns = [\"Count\"])\n",
    "df.head(10)"
   ]
  },
  {
   "cell_type": "code",
   "execution_count": 30,
   "metadata": {},
   "outputs": [
    {
     "data": {
      "text/plain": [
       "Count    1\n",
       "Name: take, dtype: int64"
      ]
     },
     "execution_count": 30,
     "metadata": {},
     "output_type": "execute_result"
    }
   ],
   "source": [
    "df.loc[\"take\"]"
   ]
  },
  {
   "cell_type": "code",
   "execution_count": 34,
   "metadata": {},
   "outputs": [],
   "source": [
    "from sklearn.feature_extraction.text import TfidfVectorizer\n",
    "\n",
    "tfidf = TfidfVectorizer(stop_words = _stopwords,\n",
    "                       tokenizer = tokenize_and_stem)\n",
    "tfidf_matrix = tfidf.fit_transform(text)\n"
   ]
  },
  {
   "cell_type": "code",
   "execution_count": 35,
   "metadata": {},
   "outputs": [
    {
     "data": {
      "text/html": [
       "<div>\n",
       "<style scoped>\n",
       "    .dataframe tbody tr th:only-of-type {\n",
       "        vertical-align: middle;\n",
       "    }\n",
       "\n",
       "    .dataframe tbody tr th {\n",
       "        vertical-align: top;\n",
       "    }\n",
       "\n",
       "    .dataframe thead th {\n",
       "        text-align: right;\n",
       "    }\n",
       "</style>\n",
       "<table border=\"1\" class=\"dataframe\">\n",
       "  <thead>\n",
       "    <tr style=\"text-align: right;\">\n",
       "      <th></th>\n",
       "      <th>Count</th>\n",
       "      <th>tfidf</th>\n",
       "    </tr>\n",
       "  </thead>\n",
       "  <tbody>\n",
       "    <tr>\n",
       "      <th>account</th>\n",
       "      <td>1</td>\n",
       "      <td>0.019996</td>\n",
       "    </tr>\n",
       "    <tr>\n",
       "      <th>acknowledg</th>\n",
       "      <td>2</td>\n",
       "      <td>0.039992</td>\n",
       "    </tr>\n",
       "    <tr>\n",
       "      <th>across</th>\n",
       "      <td>2</td>\n",
       "      <td>0.039992</td>\n",
       "    </tr>\n",
       "    <tr>\n",
       "      <th>action</th>\n",
       "      <td>3</td>\n",
       "      <td>0.059988</td>\n",
       "    </tr>\n",
       "    <tr>\n",
       "      <th>activ</th>\n",
       "      <td>1</td>\n",
       "      <td>0.019996</td>\n",
       "    </tr>\n",
       "  </tbody>\n",
       "</table>\n",
       "</div>"
      ],
      "text/plain": [
       "            Count     tfidf\n",
       "account         1  0.019996\n",
       "acknowledg      2  0.039992\n",
       "across          2  0.039992\n",
       "action          3  0.059988\n",
       "activ           1  0.019996"
      ]
     },
     "execution_count": 35,
     "metadata": {},
     "output_type": "execute_result"
    }
   ],
   "source": [
    "df[\"tfidf\"] = tfidf_matrix.toarray().T\n",
    "df.head()"
   ]
  },
  {
   "cell_type": "code",
   "execution_count": null,
   "metadata": {},
   "outputs": [],
   "source": []
  },
  {
   "cell_type": "code",
   "execution_count": null,
   "metadata": {},
   "outputs": [],
   "source": []
  },
  {
   "cell_type": "code",
   "execution_count": null,
   "metadata": {},
   "outputs": [],
   "source": []
  },
  {
   "cell_type": "code",
   "execution_count": null,
   "metadata": {},
   "outputs": [],
   "source": [
    "# LDA"
   ]
  },
  {
   "cell_type": "code",
   "execution_count": 39,
   "metadata": {},
   "outputs": [
    {
     "data": {
      "text/html": [
       "<div>\n",
       "<style scoped>\n",
       "    .dataframe tbody tr th:only-of-type {\n",
       "        vertical-align: middle;\n",
       "    }\n",
       "\n",
       "    .dataframe tbody tr th {\n",
       "        vertical-align: top;\n",
       "    }\n",
       "\n",
       "    .dataframe thead th {\n",
       "        text-align: right;\n",
       "    }\n",
       "</style>\n",
       "<table border=\"1\" class=\"dataframe\">\n",
       "  <thead>\n",
       "    <tr style=\"text-align: right;\">\n",
       "      <th></th>\n",
       "      <th>headline_text</th>\n",
       "    </tr>\n",
       "    <tr>\n",
       "      <th>publish_date</th>\n",
       "      <th></th>\n",
       "    </tr>\n",
       "  </thead>\n",
       "  <tbody>\n",
       "    <tr>\n",
       "      <th>2003-02-19</th>\n",
       "      <td>aba decides against community broadcasting lic...</td>\n",
       "    </tr>\n",
       "    <tr>\n",
       "      <th>2003-02-19</th>\n",
       "      <td>act fire witnesses must be aware of defamation</td>\n",
       "    </tr>\n",
       "    <tr>\n",
       "      <th>2003-02-19</th>\n",
       "      <td>a g calls for infrastructure protection summit</td>\n",
       "    </tr>\n",
       "    <tr>\n",
       "      <th>2003-02-19</th>\n",
       "      <td>air nz staff in aust strike for pay rise</td>\n",
       "    </tr>\n",
       "    <tr>\n",
       "      <th>2003-02-19</th>\n",
       "      <td>air nz strike to affect australian travellers</td>\n",
       "    </tr>\n",
       "  </tbody>\n",
       "</table>\n",
       "</div>"
      ],
      "text/plain": [
       "                                                  headline_text\n",
       "publish_date                                                   \n",
       "2003-02-19    aba decides against community broadcasting lic...\n",
       "2003-02-19       act fire witnesses must be aware of defamation\n",
       "2003-02-19       a g calls for infrastructure protection summit\n",
       "2003-02-19             air nz staff in aust strike for pay rise\n",
       "2003-02-19        air nz strike to affect australian travellers"
      ]
     },
     "execution_count": 39,
     "metadata": {},
     "output_type": "execute_result"
    }
   ],
   "source": [
    "%matplotlib inline\n",
    "import pandas as pd\n",
    "\n",
    "df = pd.read_csv(\"01_Data/abcnews-date-text.csv\", parse_dates=[0],\n",
    "                infer_datetime_format=True)\n",
    "df = df.set_index(\"publish_date\")\n",
    "df.head()"
   ]
  },
  {
   "cell_type": "code",
   "execution_count": 40,
   "metadata": {},
   "outputs": [
    {
     "data": {
      "text/plain": [
       "array(['labor attacks nationals mp over milk link',\n",
       "       'coraki public school hip hop video', 'dairy record', ...,\n",
       "       'joint strike fighters f35 land in australia',\n",
       "       'greece secures unprecedented bailout',\n",
       "       'fears red wine over supply may spark dumping'], dtype=object)"
      ]
     },
     "execution_count": 40,
     "metadata": {},
     "output_type": "execute_result"
    }
   ],
   "source": [
    "sample = df.sample(n=10000, random_state=0)[\"headline_text\"].values\n",
    "sample"
   ]
  },
  {
   "cell_type": "code",
   "execution_count": 43,
   "metadata": {},
   "outputs": [],
   "source": [
    "from sklearn.feature_extraction.text import CountVectorizer\n",
    "\n",
    "vectorizer = CountVectorizer(stop_words=\"english\", max_features=40000)\n",
    "count_matrix = vectorizer.fit_transform(sample)\n",
    "terms = vectorizer.get_feature_names()"
   ]
  },
  {
   "cell_type": "code",
   "execution_count": 45,
   "metadata": {},
   "outputs": [],
   "source": [
    "from sklearn.decomposition import LatentDirichletAllocation as LDA\n",
    "\n",
    "N_TOPICS = 8\n",
    "lda = LDA(n_components = N_TOPICS, learning_method='online',\n",
    "         random_state = 0, verbose = 0)\n",
    "topic_matrix = lda.fit_transform(count_matrix)"
   ]
  },
  {
   "cell_type": "code",
   "execution_count": 46,
   "metadata": {},
   "outputs": [
    {
     "name": "stdout",
     "output_type": "stream",
     "text": [
      "[5, 5, 3, 2, 1, 7, 1, 0, 3, 6, 5, 1, 3, 0, 7, 4, 6, 7, 7, 6, 0, 7, 7, 2, 4, 5, 5, 3, 1, 2, 6, 1, 5, 3, 3, 4, 3, 7, 5, 3, 7, 1, 4, 5, 1, 4, 6, 7, 6, 3, 6, 2, 3, 6, 7, 3, 4, 7, 0, 5, 2, 3, 4, 6, 5, 4, 2, 0, 4, 1, 3, 6, 7, 7, 3, 2, 7, 2, 4, 6, 5, 7, 5, 2, 0, 5, 6, 3, 1, 6, 3, 3, 5, 2, 0, 4, 7, 5, 7, 4, 7, 2, 3, 1, 5, 5, 6, 7, 3, 1, 3, 2, 2, 0, 7, 1, 6, 0, 1, 3, 6, 1, 5, 2, 4, 0, 1, 3, 6, 5, 0, 6, 4, 3, 6, 0, 5, 0, 5, 0, 5, 7, 0, 0, 5, 6, 4, 3, 0, 0, 3, 2, 5, 3, 0, 0, 3, 7, 4, 3, 7, 0, 0, 4, 7, 5, 6, 3, 0, 0, 7, 6, 5, 1, 5, 4, 0, 3, 5, 0, 0, 5, 5, 3, 5, 2, 5, 6, 6, 2, 2, 0, 5, 0, 2, 7, 0, 2, 6, 3, 4, 4, 0, 5, 6, 5, 6, 4, 7, 0, 5, 3, 1, 0, 4, 7, 3, 4, 4, 7, 0, 6, 6, 0, 7, 2, 1, 1, 4, 1, 7, 0, 7, 5, 4, 6, 3, 6, 5, 5, 7, 2, 6, 3, 2, 1, 4, 7, 2, 4, 6, 1, 4, 0, 1, 2, 0, 2, 5, 1, 4, 0, 1, 7, 7, 1, 7, 2, 4, 0, 2, 7, 3, 0, 6, 1, 6, 4, 0, 1, 0, 5, 6, 2, 0, 0, 5, 6, 5, 7, 7, 4, 6, 3, 5, 2, 1, 3, 6, 4, 0, 1, 0, 1, 1, 6, 0, 0, 7, 1, 7, 4, 7, 4, 1, 0, 4, 2, 6, 5, 6, 4, 2, 7, 2, 1, 5, 5, 0, 1, 2, 6, 2, 3, 3, 0, 5, 7, 7, 0, 5, 7, 4, 3, 4, 1, 5, 4, 3, 7, 2, 3, 1, 4, 6, 4, 3, 5, 0, 5, 1, 3, 7, 7, 7, 1, 3, 7, 3, 5, 6, 3, 7, 0, 1, 2, 2, 0, 4, 2, 3, 5, 2, 7, 3, 3, 7, 1, 2, 4, 0, 7, 6, 3, 1, 4, 4, 0, 3, 2, 4, 6, 0, 6, 7, 5, 3, 2, 2, 2, 7, 4, 2, 3, 7, 4, 3, 6, 6, 2, 0, 3, 4, 6, 7, 5, 5, 6, 7, 7, 7, 0, 7, 7, 3, 4, 6, 4, 3, 7, 3, 1, 6, 7, 0, 4, 1, 5, 1, 1, 2, 3, 7, 3, 7, 7, 1, 1, 7, 2, 7, 1, 2, 6, 3, 6, 4, 1, 2, 7, 1, 5, 4, 6, 2, 4, 3, 3, 0, 5, 2, 0, 2, 2, 7, 2, 7, 1, 7, 1, 7, 4, 1, 1, 7, 7, 2, 0, 7, 6, 2, 0, 3, 6, 3, 4, 6, 3, 7, 2, 0, 3, 5, 2, 4, 1, 1, 1, 3, 6, 5, 1, 3, 1, 0, 6, 2, 5, 4, 7, 1, 7, 1, 0, 6, 7, 2, 4, 4, 1, 3, 1, 5, 5, 2, 7, 1, 5, 6, 2, 5, 4, 1, 3, 7, 0, 1, 3, 7, 1, 6, 4, 4, 2, 7, 3, 3, 1, 1, 3, 1, 4, 0, 2, 0, 0, 2, 5, 0, 4, 7, 1, 7, 7, 6, 0, 2, 6, 0, 0, 4, 3, 5, 3, 7, 6, 6, 4, 1, 6, 5, 0, 1, 4, 3, 6, 5, 0, 1, 0, 6, 5, 5, 3, 4, 6, 1, 7, 7, 3, 1, 5, 2, 0, 1, 1, 4, 4, 3, 1, 6, 5, 2, 4, 7, 7, 3, 2, 4, 0, 2, 5, 7, 7, 0, 1, 7, 1, 5, 4, 5, 3, 5, 4, 3, 6, 4, 6, 4, 6, 7, 6, 5, 3, 5, 4, 5, 5, 5, 1, 0, 4, 0, 0, 4, 4, 2, 6, 3, 2, 7, 6, 6, 1, 1, 3, 5, 0, 6, 7, 1, 7, 5, 7, 0, 5, 1, 6, 6, 7, 2, 5, 5, 2, 7, 3, 7, 6, 4, 0, 0, 5, 0, 5, 7, 2, 3, 7, 6, 2, 6, 2, 0, 1, 6, 3, 0, 1, 7, 6, 5, 0, 7, 2, 6, 0, 5, 0, 6, 7, 3, 4, 5, 2, 4, 7, 1, 0, 7, 5, 2, 0, 3, 7, 4, 0, 1, 7, 1, 6, 0, 7, 5, 6, 6, 1, 4, 3, 0, 5, 0, 5, 1, 7, 6, 6, 3, 2, 0, 3, 1, 6, 4, 0, 5, 3, 4, 3, 3, 1, 0, 0, 3, 3, 0, 2, 3, 0, 5, 2, 7, 4, 7, 0, 0, 0, 1, 6, 4, 4, 7, 2, 6, 7, 2, 5, 1, 4, 0, 7, 6, 2, 5, 3, 5, 7, 5, 7, 6, 7, 7, 0, 7, 5, 7, 6, 7, 6, 6, 5, 0, 1, 1, 2, 1, 4, 7, 1, 6, 4, 1, 5, 4, 3, 0, 0, 3, 7, 2, 1, 2, 3, 4, 0, 0, 2, 3, 0, 3, 0, 7, 4, 7, 3, 6, 2, 1, 3, 4, 6, 0, 3, 3, 4, 2, 0, 7, 5, 0, 1, 6, 5, 2, 7, 1, 7, 2, 2, 2, 5, 2, 1, 3, 6, 5, 1, 4, 3, 2, 1, 2, 2, 5, 1, 1, 6, 6, 3, 1, 1, 4, 4, 7, 7, 4, 1, 1, 2, 7, 3, 3, 2, 1, 0, 4, 1, 6, 0, 0, 2, 6, 4, 6, 3, 4, 3, 6, 6, 7, 7, 2, 5, 6, 3, 4, 6, 2, 1, 7, 2, 6, 2, 2, 0, 1, 4, 0, 6, 2, 7, 6, 5, 2, 0, 3, 5, 7, 4, 6, 3, 1, 7, 7, 7, 7, 4, 6, 5, 2, 6, 2, 2, 7, 1, 4, 7, 0, 5, 2, 5, 3, 0, 6, 3, 3, 1, 4, 7, 1, 7, 5, 3, 4, 0, 4, 3, 5, 5, 2, 2, 2, 5, 2, 4, 0, 0, 2, 2, 5, 2, 2, 2, 2, 3, 4, 4, 6, 3, 4, 1, 2, 4, 1, 3, 2, 7, 0, 2, 3, 3, 4, 3, 4, 5, 4, 6, 6, 0, 2, 6, 7, 2, 4, 2, 4, 6, 1, 1, 2, 3, 0, 2, 5, 1, 3, 6, 6, 1, 7, 6, 3, 6, 2, 4, 4, 5, 5, 2, 6, 1, 0, 5, 7, 5, 1, 5, 0, 3, 3, 4, 0, 4, 4, 4, 2, 3, 2, 4, 5, 3, 3, 0, 1, 7, 7, 3, 1, 1, 2, 5, 2, 4, 3, 3, 7, 1, 4, 0, 7, 2, 1, 7, 7, 2, 2, 7, 2, 7, 1, 0, 0, 7, 5, 6, 6, 1, 6, 7, 0, 2, 1, 3, 0, 6, 2, 5, 1, 0, 4, 0, 2, 7, 5, 5, 5, 1, 7, 6, 7, 2, 7, 0, 3, 3, 0, 4, 4, 2, 4, 0, 1, 5, 1, 3, 0, 3, 4, 3, 5, 2, 7, 6, 4, 5, 6, 4, 2, 3, 6, 7, 1, 2, 7, 7, 5, 3, 4, 0, 6, 4, 3, 6, 2, 0, 1, 0, 7, 7, 1, 6, 6, 6, 2, 4, 3, 7, 0, 7, 2, 5, 7, 4, 5, 1, 1, 7, 4, 4, 1, 3, 6, 2, 0, 1, 6, 3, 7, 0, 7, 2, 1, 4, 1, 1, 5, 5, 5, 1, 3, 7, 1, 2, 3, 3, 4, 7, 7, 0, 6, 6, 5, 2, 3, 4, 2, 7, 5, 3, 4, 5, 5, 3, 7, 4, 1, 7, 0, 4, 0, 5, 6, 4, 7, 7, 1, 5, 6, 5, 0, 6, 1, 0, 6, 2, 4, 5, 3, 4, 4, 0, 7, 2, 7, 0, 5, 7, 5, 7, 7, 5, 3, 0, 3, 7, 0, 1, 6, 7, 1, 1, 6, 5, 6, 2, 6, 5, 5, 5, 3, 4, 0, 1, 5, 2, 6, 3, 5, 7, 6, 6, 6, 1, 2, 3, 7, 7, 6, 1, 1, 0, 5, 3, 7, 6, 3, 3, 0, 0, 7, 0, 4, 0, 1, 3, 3, 0, 2, 3, 4, 1, 2, 1, 3, 7, 0, 1, 2, 6, 1, 1, 5, 6, 5, 3, 3, 2, 2, 0, 4, 3, 0, 1, 1, 5, 5, 1, 5, 7, 7, 4, 7, 7, 4, 1, 5, 5, 4, 2, 2, 6, 4, 5, 5, 0, 2, 4, 0, 1, 4, 6, 7, 3, 0, 2, 2, 7, 2, 3, 5, 3, 4, 0, 3, 7, 5, 4, 0, 2, 0, 6, 1, 6, 2, 2, 7, 0, 1, 3, 0, 3, 6, 1, 3, 4, 0, 4, 6, 1, 0, 1, 6, 5, 0, 4, 2, 3, 4, 7, 2, 1, 4, 6, 2, 1, 6, 0, 7, 4, 7, 2, 0, 1, 7, 2, 7, 1, 6, 7, 7, 6, 0, 3, 5, 4, 2, 5, 0, 1, 1, 5, 7, 7, 2, 0, 2, 3, 1, 0, 0, 3, 0, 2, 4, 1, 1, 7, 7, 7, 7, 2, 7, 6, 7, 2, 7, 4, 5, 5, 2, 1, 1, 5, 0, 7, 2, 5, 3, 7, 5, 2, 3, 6, 6, 5, 1, 6, 1, 0, 5, 3, 7, 6, 6, 3, 0, 1, 7, 5, 2, 2, 2, 7, 3, 4, 6, 4, 7, 4, 4, 6, 3, 4, 6, 4, 2, 0, 1, 7, 5, 1, 1, 3, 7, 5, 0, 3, 7, 7, 4, 1, 3, 0, 0, 4, 1, 4, 2, 5, 4, 6, 0, 6, 3, 6, 6, 3, 7, 2, 3, 3, 4, 3, 4, 4, 4, 1, 7, 7, 7, 2, 7, 5, 0, 4, 6, 6, 0, 5, 6, 5, 2, 6, 0, 3, 6, 1, 2, 3, 5, 4, 4, 2, 6, 2, 4, 1, 7, 0, 6, 3, 4, 1, 5, 6, 7, 0, 4, 7, 2, 6, 3, 1, 2, 2, 1, 0, 4, 6, 5, 5, 5, 4, 5, 4, 0, 2, 5, 5, 0, 1, 1, 6, 7, 6, 6, 4, 7, 2, 4, 7, 0, 0, 7, 7, 0, 0, 1, 3, 7, 6, 0, 6, 4, 0, 0, 1, 7, 6, 7, 5, 4, 6, 4, 7, 3, 5, 7, 2, 0, 5, 4, 2, 2, 3, 0, 5, 1, 1, 3, 1, 3, 7, 0, 3, 3, 6, 6, 2, 3, 3, 7, 5, 2, 7, 3, 7, 4, 7, 0, 5, 0, 5, 3, 4, 3, 7, 7, 2, 4, 4, 3, 7, 3, 0, 3, 7, 5, 5, 4, 2, 3, 4, 6, 1, 5, 6, 7, 2, 6, 4, 6, 0, 0, 3, 6, 2, 2, 7, 7, 0, 3, 0, 1, 4, 2, 4, 1, 3, 2, 4, 6, 2, 7, 7, 7, 5, 4, 0, 1, 1, 7, 7, 6, 5, 4, 0, 5, 2, 5, 2, 7, 4, 1, 2, 5, 0, 3, 0, 3, 3, 2, 6, 0, 0, 2, 3, 3, 2, 7, 5, 0, 5, 0, 5, 6, 0, 6, 4, 2, 2, 2, 6, 4, 3, 0, 6, 7, 0, 0, 5, 3, 7, 7, 6, 2, 7, 0, 1, 7, 2, 6, 1, 1, 7, 2, 3, 6, 7, 0, 1, 4, 5, 2, 4, 7, 3, 7, 2, 6, 0, 0, 4, 6, 0, 5, 6, 2, 5, 0, 5, 6, 3, 3, 3, 1, 7, 2, 5, 5, 2, 6, 5, 0, 1, 2, 4, 1, 2, 2, 6, 5, 0, 6, 5, 4, 7, 3, 2, 1, 4, 0, 0, 3, 7, 4, 0, 6, 3, 7, 7, 0, 7, 3, 5, 6, 7, 2, 0, 5, 7, 7, 7, 3, 7, 4, 7, 3, 0, 6, 6, 7, 4, 3, 4, 1, 0, 3, 1, 6, 5, 1, 4, 7, 0, 7, 2, 7, 3, 3, 3, 2, 0, 7, 5, 7, 2, 5, 1, 4, 7, 7, 5, 6, 3, 4, 4, 0, 2, 7, 6, 3, 0, 4, 3, 7, 3, 3, 6, 1, 0, 4, 4, 3, 6, 5, 7, 7, 1, 4, 6, 2, 3, 2, 1, 2, 2, 6, 1, 1, 5, 4, 4, 5, 1, 4, 2, 5, 2, 0, 5, 6, 2, 7, 6, 4, 0, 3, 5, 1, 3, 6, 3, 1, 5, 0, 6, 5, 2, 0, 5, 6, 2, 1, 1, 5, 2, 0, 1, 2, 4, 3, 5, 0, 7, 7, 6, 4, 0, 0, 2, 6, 0, 5, 0, 1, 5, 2, 1, 0, 2, 7, 5, 2, 6, 6, 3, 0, 5, 2, 4, 6, 5, 1, 0, 6, 2, 5, 5, 6, 0, 4, 7, 1, 6, 5, 6, 1, 4, 1, 0, 3, 0, 3, 4, 2, 7, 5, 2, 2, 3, 3, 2, 6, 2, 0, 0, 0, 7, 2, 3, 3, 3, 3, 5, 5, 2, 4, 2, 5, 7, 7, 7, 6, 0, 2, 7, 0, 1, 7, 6, 2, 5, 2, 1, 4, 5, 0, 0, 0, 4, 7, 0, 6, 5, 3, 5, 7, 3, 0, 1, 3, 2, 2, 4, 2, 2, 2, 3, 7, 3, 2, 7, 4, 2, 3, 7, 3, 5, 7, 1, 7, 3, 3, 7, 5, 4, 0, 6, 0, 3, 1, 6, 3, 2, 0, 3, 3, 5, 5, 1, 3, 0, 0, 4, 3, 0, 3, 4, 7, 4, 2, 0, 0, 0, 0, 4, 3, 5, 3, 1, 3, 7, 5, 7, 0, 6, 6, 6, 4, 7, 4, 3, 3, 5, 5, 0, 7, 0, 1, 3, 7, 2, 5, 1, 1, 4, 6, 7, 2, 3, 1, 7, 3, 6, 6, 1, 6, 3, 3, 7, 3, 2, 4, 2, 1, 4, 3, 3, 5, 2, 0, 0, 0, 2, 0, 2, 5, 7, 5, 7, 6, 1, 4, 3, 7, 3, 7, 0, 4, 2, 3, 4, 2, 5, 2, 1, 5, 0, 2, 4, 4, 0, 3, 2, 0, 2, 1, 6, 3, 1, 0, 0, 5, 6, 1, 0, 4, 5, 4, 7, 0, 4, 6, 5, 1, 5, 4, 1, 7, 7, 1, 1, 7, 4, 3, 4, 3, 0, 4, 4, 4, 1, 3, 0, 1, 1, 4, 3, 0, 7, 3, 6, 6, 0, 3, 4, 2, 6, 5, 0, 2, 4, 0, 0, 6, 5, 3, 0, 0, 1, 6, 3, 7, 0, 3, 2, 5, 3, 3, 1, 6, 0, 6, 7, 3, 5, 3, 7, 5, 5, 7, 5, 6, 3, 5, 7, 3, 4, 4, 0, 1, 3, 0, 1, 5, 5, 4, 1, 6, 7, 0, 5, 4, 4, 2, 3, 3, 3, 0, 0, 2, 2, 1, 5, 0, 6, 1, 0, 7, 3, 5, 7, 6, 0, 3, 4, 0, 4, 3, 7, 6, 3, 1, 6, 4, 7, 0, 6, 2, 7, 4, 2, 6, 7, 0, 3, 6, 5, 6, 1, 7, 1, 3, 4, 2, 7, 1, 1, 1, 3, 2, 5, 1, 7, 1, 5, 0, 5, 0, 1, 3, 4, 4, 7, 2, 1, 4, 0, 3, 3, 5, 5, 3, 0, 2, 5, 3, 4, 6, 3, 5, 2, 6, 6, 5, 6, 5, 0, 2, 3, 5, 7, 5, 5, 7, 0, 2, 1, 7, 4, 5, 0, 0, 5, 1, 1, 2, 0, 1, 0, 6, 1, 0, 4, 7, 1, 4, 1, 1, 3, 5, 7, 4, 0, 7, 5, 1, 4, 1, 3, 7, 5, 3, 0, 0, 1, 3, 3, 1, 2, 7, 5, 0, 1, 7, 1, 6, 7, 5, 1, 5, 3, 6, 1, 7, 4, 2, 3, 3, 2, 7, 1, 5, 4, 4, 5, 0, 1, 4, 7, 6, 0, 4, 5, 7, 1, 3, 0, 7, 3, 0, 0, 0, 0, 7, 7, 5, 1, 4, 4, 3, 7, 5, 7, 4, 3, 0, 0, 1, 6, 4, 6, 4, 2, 2, 3, 7, 5, 3, 1, 4, 3, 3, 7, 6, 2, 4, 6, 3, 1, 7, 3, 4, 7, 2, 3, 5, 3, 0, 0, 2, 7, 4, 6, 5, 0, 4, 7, 2, 2, 5, 1, 7, 2, 5, 7, 0, 1, 6, 6, 3, 2, 7, 6, 0, 6, 6, 0, 3, 6, 2, 1, 7, 0, 0, 6, 7, 5, 7, 2, 1, 7, 6, 3, 7, 3, 4, 5, 6, 6, 6, 7, 0, 7, 2, 7, 3, 3, 4, 1, 5, 1, 7, 7, 3, 0, 6, 7, 1, 1, 5, 2, 7, 1, 0, 7, 7, 5, 5, 7, 2, 2, 6, 2, 3, 1, 6, 1, 6, 0, 2, 4, 3, 0, 1, 3, 5, 3, 3, 2, 6, 7, 5, 5, 6, 3, 4, 2, 1, 6, 7, 4, 6, 5, 5, 5, 5, 0, 7, 1, 5, 0, 6, 1, 0, 7, 0, 1, 1, 6, 3, 4, 2, 3, 6, 4, 3, 4, 0, 7, 3, 7, 4, 7, 0, 2, 7, 6, 2, 3, 7, 0, 3, 2, 5, 1, 1, 4, 5, 3, 4, 7, 2, 6, 1, 6, 5, 1, 3, 6, 3, 5, 0, 7, 2, 5, 1, 0, 4, 6, 0, 2, 2, 2, 4, 4, 0, 4, 6, 7, 7, 1, 0, 4, 6, 4, 7, 1, 6, 7, 5, 4, 4, 7, 4, 6, 3, 2, 7, 1, 3, 2, 3, 6, 2, 4, 1, 1, 2, 5, 4, 1, 3, 5, 7, 7, 1, 7, 3, 1, 3, 5, 4, 1, 7, 2, 1, 0, 1, 5, 2, 4, 6, 6, 3, 3, 5, 2, 6, 6, 0, 2, 6, 2, 6, 3, 7, 5, 0, 7, 6, 2, 0, 2, 2, 4, 0, 7, 4, 7, 4, 5, 0, 0, 4, 4, 3, 1, 6, 5, 2, 6, 5, 3, 6, 2, 1, 2, 2, 2, 3, 7, 1, 2, 7, 6, 2, 6, 6, 3, 4, 2, 6, 3, 5, 3, 7, 2, 1, 4, 5, 2, 0, 0, 7, 6, 3, 2, 1, 3, 4, 4, 2, 1, 4, 7, 2, 6, 7, 5, 1, 6, 1, 2, 7, 6, 0, 6, 4, 2, 7, 4, 5, 3, 6, 2, 4, 4, 3, 0, 4, 6, 4, 1, 3, 2, 3, 2, 7, 4, 2, 1, 3, 7, 1, 1, 0, 5, 3, 5, 4, 1, 5, 4, 5, 1, 0, 6, 6, 4, 6, 7, 3, 4, 2, 7, 2, 7, 3, 3, 0, 6, 5, 6, 5, 1, 5, 3, 5, 4, 2, 1, 1, 5, 7, 0, 1, 5, 5, 7, 2, 5, 5, 4, 7, 4, 3, 0, 2, 3, 2, 6, 1, 1, 3, 1, 3, 4, 4, 1, 2, 5, 5, 3, 1, 2, 2, 0, 7, 5, 6, 5, 5, 1, 3, 4, 4, 4, 1, 3, 7, 5, 5, 2, 4, 2, 3, 5, 6, 2, 6, 2, 3, 5, 4, 4, 2, 4, 4, 2, 0, 6, 1, 6, 2, 0, 5, 6, 5, 7, 6, 3, 0, 4, 3, 6, 3, 3, 7, 4, 5, 6, 0, 6, 4, 1, 1, 0, 2, 2, 4, 5, 4, 6, 7, 7, 2, 7, 4, 1, 7, 1, 4, 2, 4, 0, 0, 5, 1, 2, 7, 3, 6, 0, 2, 7, 2, 4, 1, 7, 2, 0, 4, 7, 6, 3, 6, 2, 7, 7, 3, 4, 6, 6, 1, 6, 5, 7, 4, 4, 1, 7, 1, 6, 4, 0, 0, 3, 6, 0, 5, 3, 2, 0, 5, 4, 3, 4, 3, 0, 0, 4, 2, 7, 5, 5, 3, 7, 3, 1, 1, 0, 6, 1, 5, 0, 6, 3, 1, 3, 7, 5, 2, 7, 0, 5, 3, 3, 7, 3, 7, 4, 1, 0, 2, 7, 3, 4, 4, 6, 3, 7, 2, 3, 7, 3, 6, 2, 0, 3, 6, 0, 7, 5, 4, 0, 0, 3, 7, 1, 7, 1, 3, 1, 3, 0, 1, 3, 4, 7, 6, 6, 4, 3, 3, 3, 5, 3, 6, 2, 4, 1, 1, 2, 0, 6, 0, 6, 0, 4, 4, 2, 2, 7, 2, 6, 0, 6, 7, 4, 3, 7, 4, 1, 4, 2, 4, 6, 0, 2, 2, 7, 1, 0, 3, 7, 5, 6, 4, 5, 0, 7, 5, 5, 6, 5, 5, 2, 3, 6, 1, 3, 0, 1, 6, 0, 0, 3, 1, 1, 2, 1, 0, 2, 6, 3, 0, 5, 0, 4, 1, 6, 4, 2, 3, 1, 2, 5, 7, 6, 3, 7, 6, 2, 3, 4, 4, 2, 3, 6, 6, 3, 1, 2, 7, 5, 5, 5, 5, 3, 3, 6, 4, 7, 4, 1, 5, 5, 5, 7, 2, 0, 2, 5, 7, 1, 6, 2, 4, 6, 1, 2, 5, 1, 2, 7, 0, 1, 4, 6, 7, 0, 1, 7, 5, 2, 3, 1, 2, 7, 5, 2, 3, 2, 0, 2, 4, 4, 7, 6, 3, 7, 1, 4, 5, 5, 1, 2, 1, 7, 7, 3, 5, 5, 4, 1, 4, 0, 7, 0, 4, 4, 4, 7, 4, 7, 7, 1, 5, 3, 6, 2, 3, 1, 6, 1, 5, 4, 4, 0, 2, 6, 6, 5, 6, 4, 4, 7, 1, 1, 7, 2, 3, 6, 0, 1, 1, 2, 3, 1, 4, 6, 7, 0, 4, 7, 4, 3, 4, 0, 4, 5, 4, 7, 0, 2, 6, 3, 1, 7, 7, 1, 5, 6, 6, 3, 4, 3, 4, 3, 5, 0, 3, 3, 0, 4, 2, 0, 4, 0, 6, 6, 0, 6, 6, 7, 2, 2, 0, 6, 5, 0, 3, 0, 4, 6, 0, 6, 7, 4, 5, 1, 5, 2, 5, 5, 3, 0, 3, 4, 6, 0, 5, 6, 0, 6, 3, 0, 3, 7, 5, 0, 0, 2, 6, 2, 4, 5, 6, 1, 7, 1, 2, 7, 2, 2, 4, 3, 2, 3, 6, 5, 0, 7, 0, 7, 4, 4, 1, 0, 1, 4, 2, 6, 2, 7, 0, 6, 7, 5, 1, 6, 0, 2, 5, 7, 3, 0, 1, 4, 7, 1, 1, 7, 3, 4, 0, 6, 1, 7, 7, 3, 1, 2, 4, 7, 5, 1, 4, 1, 0, 1, 1, 5, 1, 5, 0, 4, 2, 1, 6, 6, 3, 1, 0, 1, 4, 5, 6, 4, 4, 6, 0, 5, 4, 7, 6, 5, 0, 2, 7, 6, 2, 2, 7, 4, 1, 5, 0, 1, 6, 6, 4, 3, 7, 2, 1, 1, 2, 3, 6, 7, 6, 6, 5, 0, 3, 1, 2, 6, 1, 3, 7, 4, 7, 0, 2, 5, 7, 4, 4, 7, 7, 7, 2, 3, 2, 4, 5, 6, 7, 3, 7, 5, 2, 7, 3, 6, 3, 5, 3, 2, 6, 4, 5, 3, 3, 2, 7, 7, 5, 1, 5, 3, 7, 2, 1, 6, 3, 6, 6, 6, 1, 0, 4, 1, 1, 0, 7, 3, 6, 1, 5, 3, 2, 6, 4, 0, 7, 7, 0, 7, 6, 1, 0, 7, 7, 1, 4, 7, 7, 7, 3, 7, 6, 5, 6, 4, 7, 5, 6, 1, 2, 6, 0, 5, 1, 3, 7, 2, 1, 6, 4, 2, 2, 5, 7, 7, 1, 1, 0, 3, 1, 2, 0, 3, 6, 2, 3, 4, 1, 5, 7, 2, 4, 5, 6, 3, 2, 5, 7, 6, 0, 6, 7, 6, 7, 3, 0, 7, 0, 7, 1, 0, 4, 0, 7, 4, 7, 5, 0, 6, 1, 7, 1, 3, 2, 2, 7, 5, 2, 7, 3, 4, 6, 4, 0, 1, 3, 0, 5, 5, 5, 2, 5, 0, 7, 3, 7, 1, 0, 7, 0, 7, 6, 7, 0, 7, 7, 1, 6, 6, 3, 0, 3, 5, 3, 0, 5, 0, 5, 0, 7, 0, 7, 2, 4, 7, 5, 3, 2, 3, 6, 7, 7, 2, 0, 2, 5, 6, 6, 6, 3, 3, 1, 1, 6, 5, 3, 4, 5, 5, 1, 7, 3, 7, 0, 2, 2, 1, 2, 3, 5, 5, 6, 3, 6, 7, 6, 2, 0, 1, 2, 3, 0, 7, 6, 3, 4, 4, 4, 5, 3, 1, 2, 6, 5, 5, 4, 2, 3, 6, 1, 7, 0, 0, 6, 3, 7, 5, 4, 1, 2, 3, 7, 4, 7, 7, 7, 5, 4, 6, 0, 5, 2, 1, 0, 1, 2, 1, 0, 6, 4, 3, 5, 7, 7, 5, 4, 5, 2, 1, 7, 7, 2, 7, 7, 1, 3, 3, 4, 4, 4, 4, 5, 4, 7, 0, 1, 0, 5, 7, 7, 3, 0, 6, 2, 1, 0, 7, 7, 0, 4, 4, 1, 2, 0, 1, 3, 5, 3, 5, 3, 4, 3, 7, 7, 2, 5, 3, 0, 4, 6, 7, 4, 4, 2, 3, 1, 7, 4, 3, 1, 1, 4, 0, 7, 1, 3, 6, 5, 4, 3, 6, 7, 5, 1, 6, 5, 2, 4, 3, 1, 6, 0, 3, 3, 6, 5, 7, 2, 2, 7, 0, 2, 2, 4, 4, 5, 4, 0, 1, 4, 3, 1, 2, 6, 0, 2, 7, 5, 4, 5, 3, 1, 6, 7, 0, 0, 6, 6, 4, 3, 7, 6, 5, 0, 4, 3, 2, 5, 1, 2, 6, 2, 3, 7, 3, 4, 7, 1, 7, 1, 0, 5, 5, 5, 6, 2, 7, 2, 4, 1, 6, 5, 4, 4, 2, 0, 3, 7, 6, 4, 5, 7, 5, 6, 2, 6, 7, 3, 0, 5, 0, 6, 3, 2, 5, 2, 6, 5, 7, 7, 4, 7, 3, 2, 5, 1, 5, 0, 0, 6, 4, 1, 4, 4, 6, 4, 4, 7, 7, 1, 5, 2, 5, 3, 4, 2, 2, 0, 0, 7, 5, 5, 4, 5, 5, 4, 3, 0, 3, 5, 0, 7, 4, 7, 3, 5, 5, 7, 3, 6, 1, 0, 5, 1, 5, 0, 5, 3, 5, 7, 6, 3, 1, 3, 6, 0, 3, 2, 0, 5, 3, 2, 2, 4, 5, 7, 1, 7, 7, 2, 1, 1, 1, 1, 2, 6, 4, 4, 6, 3, 4, 6, 1, 3, 6, 2, 5, 1, 3, 7, 3, 6, 0, 5, 3, 6, 4, 3, 1, 1, 5, 0, 4, 0, 5, 4, 5, 2, 2, 0, 6, 1, 5, 1, 2, 1, 0, 7, 0, 5, 3, 5, 7, 1, 2, 2, 6, 4, 0, 3, 2, 3, 4, 3, 1, 4, 3, 4, 2, 7, 0, 6, 7, 7, 7, 0, 4, 6, 2, 3, 7, 1, 6, 0, 4, 3, 3, 3, 6, 3, 2, 2, 5, 5, 7, 1, 0, 3, 5, 5, 1, 0, 4, 2, 6, 3, 3, 3, 5, 0, 6, 4, 4, 7, 7, 5, 0, 0, 2, 3, 1, 2, 7, 3, 7, 2, 4, 3, 6, 1, 2, 1, 2, 2, 5, 2, 5, 1, 1, 6, 4, 3, 5, 1, 7, 4, 7, 4, 2, 4, 0, 2, 7, 3, 3, 7, 2, 1, 6, 7, 7, 4, 1, 6, 2, 2, 6, 3, 3, 6, 6, 1, 2, 3, 7, 3, 6, 3, 5, 5, 2, 6, 6, 6, 2, 5, 5, 6, 6, 2, 1, 7, 6, 0, 2, 0, 0, 2, 2, 7, 5, 6, 0, 1, 2, 5, 4, 0, 5, 1, 7, 6, 3, 7, 3, 2, 7, 4, 5, 5, 3, 0, 3, 7, 3, 2, 5, 0, 4, 1, 1, 3, 6, 2, 5, 0, 7, 1, 2, 1, 4, 7, 5, 4, 7, 0, 4, 7, 2, 3, 2, 5, 1, 6, 1, 1, 4, 0, 0, 7, 2, 1, 0, 6, 1, 2, 1, 5, 1, 6, 0, 0, 4, 6, 4, 7, 1, 7, 2, 0, 5, 6, 2, 4, 4, 1, 7, 1, 0, 4, 0, 4, 5, 1, 4, 0, 1, 4, 6, 4, 2, 6, 2, 6, 2, 3, 1, 4, 7, 0, 3, 6, 7, 7, 7, 7, 7, 4, 0, 0, 1, 6, 7, 3, 3, 4, 5, 7, 6, 0, 7, 6, 6, 7, 4, 6, 1, 3, 3, 1, 6, 3, 5, 2, 7, 7, 4, 3, 2, 5, 7, 1, 7, 6, 1, 7, 1, 7, 3, 3, 3, 7, 2, 3, 6, 7, 6, 2, 3, 4, 0, 2, 4, 6, 0, 0, 1, 5, 2, 2, 1, 5, 2, 3, 3, 6, 4, 2, 0, 1, 0, 4, 4, 0, 1, 6, 7, 4, 0, 6, 6, 3, 2, 1, 3, 1, 0, 1, 4, 1, 0, 1, 0, 2, 5, 0, 0, 0, 1, 3, 3, 1, 6, 5, 2, 3, 2, 6, 6, 5, 1, 5, 7, 5, 7, 1, 3, 7, 6, 6, 7, 3, 2, 6, 4, 5, 4, 6, 1, 1, 1, 5, 2, 5, 5, 2, 2, 7, 0, 5, 5, 4, 4, 1, 3, 5, 0, 2, 1, 5, 1, 4, 1, 1, 6, 6, 6, 3, 0, 0, 6, 1, 6, 4, 2, 3, 5, 1, 1, 5, 3, 7, 1, 3, 3, 0, 5, 0, 7, 5, 1, 4, 4, 1, 2, 3, 7, 5, 4, 4, 2, 3, 7, 2, 0, 6, 5, 0, 1, 6, 0, 4, 1, 5, 6, 2, 5, 3, 1, 5, 0, 7, 2, 6, 5, 0, 1, 1, 1, 6, 6, 4, 6, 7, 5, 1, 4, 1, 3, 2, 4, 6, 3, 6, 1, 5, 4, 6, 4, 6, 4, 5, 6, 0, 2, 7, 0, 7, 7, 3, 2, 7, 1, 0, 0, 1, 5, 0, 3, 7, 6, 2, 1, 3, 0, 0, 7, 0, 4, 5, 5, 5, 7, 0, 1, 6, 3, 5, 2, 4, 2, 0, 4, 2, 3, 5, 2, 4, 3, 1, 5, 5, 7, 1, 6, 6, 7, 3, 1, 4, 5, 7, 1, 1, 5, 2, 7, 1, 3, 7, 0, 0, 0, 0, 4, 1, 5, 2, 4, 2, 6, 5, 1, 0, 1, 1, 5, 2, 5, 1, 5, 4, 1, 1, 1, 6, 5, 5, 5, 3, 6, 4, 5, 2, 1, 1, 6, 6, 2, 5, 2, 6, 2, 7, 7, 3, 6, 2, 1, 7, 3, 7, 4, 2, 5, 5, 1, 6, 4, 1, 2, 7, 2, 1, 4, 4, 7, 5, 6, 5, 3, 7, 4, 5, 0, 3, 0, 4, 0, 7, 0, 2, 7, 3, 3, 7, 0, 1, 3, 7, 0, 4, 0, 5, 4, 0, 5, 0, 5, 2, 6, 2, 5, 1, 4, 7, 1, 7, 4, 4, 1, 2, 3, 6, 7, 6, 4, 2, 0, 6, 0, 3, 4, 1, 6, 1, 0, 7, 2, 7, 2, 2, 4, 0, 7, 3, 3, 7, 3, 1, 0, 4, 1, 4, 6, 5, 5, 3, 0, 0, 4, 3, 6, 7, 6, 5, 3, 3, 5, 4, 1, 1, 3, 5, 6, 6, 6, 5, 0, 5, 0, 5, 2, 7, 5, 4, 1, 4, 6, 7, 5, 4, 6, 0, 3, 6, 3, 4, 3, 2, 0, 3, 5, 0, 5, 4, 5, 2, 6, 0, 7, 4, 3, 4, 1, 7, 0, 7, 4, 1, 3, 7, 3, 4, 3, 5, 3, 3, 0, 3, 7, 0, 6, 0, 7, 4, 3, 5, 5, 4, 0, 0, 1, 3, 6, 5, 7, 3, 1, 3, 4, 4, 0, 7, 4, 0, 4, 5, 1, 3, 3, 1, 4, 0, 5, 7, 5, 6, 4, 5, 1, 0, 7, 6, 5, 7, 2, 1, 7, 3, 1, 0, 1, 0, 1, 4, 4, 2, 5, 1, 7, 7, 1, 7, 5, 7, 7, 6, 5, 3, 5, 3, 5, 4, 1, 0, 5, 3, 4, 2, 6, 6, 1, 2, 2, 6, 0, 7, 1, 5, 1, 0, 2, 6, 7, 6, 4, 6, 2, 1, 0, 4, 7, 0, 4, 3, 1, 1, 4, 1, 2, 7, 6, 5, 0, 7, 4, 3, 0, 2, 6, 6, 4, 5, 0, 4, 4, 2, 0, 6, 4, 6, 4, 6, 3, 6, 4, 6, 6, 4, 1, 6, 2, 7, 6, 7, 3, 0, 7, 2, 5, 0, 3, 3, 3, 1, 7, 1, 5, 4, 7, 5, 6, 0, 3, 2, 7, 0, 0, 6, 4, 1, 7, 1, 4, 0, 1, 7, 7, 4, 6, 5, 1, 5, 1, 0, 3, 7, 2, 2, 7, 6, 5, 1, 2, 2, 5, 0, 0, 0, 2, 2, 2, 2, 4, 2, 2, 4, 6, 2, 0, 5, 2, 1, 0, 1, 3, 1, 5, 6, 6, 3, 2, 4, 6, 7, 0, 6, 7, 7, 2, 0, 2, 4, 2, 0, 0, 3, 6, 2, 2, 0, 7, 0, 6, 5, 3, 4, 7, 2, 7, 4, 3, 5, 6, 5, 3, 7, 2, 4, 6, 6, 0, 7, 6, 1, 0, 0, 3, 3, 6, 6, 5, 1, 0, 1, 7, 4, 6, 0, 5, 6, 6, 0, 0, 7, 3, 3, 3, 6, 3, 3, 5, 4, 0, 1, 6, 1, 7, 1, 4, 0, 5, 0, 2, 2, 5, 2, 4, 5, 7, 5, 2, 5, 2, 1, 1, 7, 7, 6, 6, 7, 6, 0, 1, 5, 0, 0, 1, 4, 7, 2, 2, 5, 0, 0, 2, 6, 3, 7, 6, 0, 1, 7, 0, 1, 7, 4, 5, 1, 4, 1, 3, 2, 6, 7, 2, 3, 2, 4, 6, 1, 6, 3, 4, 3, 7, 2, 0, 1, 1, 7, 5, 6, 5, 6, 7, 7, 0, 4, 4, 0, 7, 6, 6, 3, 3, 0, 5, 6, 1, 2, 6, 3, 5, 4, 4, 1, 4, 0, 7, 0, 2, 6, 4, 4, 5, 5, 6, 5, 0, 7, 4, 4, 3, 0, 0, 2, 0, 4, 4, 4, 0, 6, 7, 3, 6, 5, 1, 6, 1, 5, 6, 0, 0, 0, 7, 0, 6, 2, 0, 4, 1, 0, 6, 0, 4, 0, 2, 3, 5, 7, 0, 2, 1, 3, 4, 5, 5, 3, 3, 1, 3, 0, 5, 2, 6, 7, 6, 7, 2, 7, 4, 2, 7, 5, 3, 7, 4, 5, 7, 4, 7, 0, 1, 5, 2, 1, 1, 3, 7, 5, 3, 5, 2, 1, 5, 0, 6, 4, 3, 0, 6, 6, 3, 4, 6, 5, 6, 5, 7, 7, 7, 2, 7, 5, 5, 2, 4, 3, 2, 6, 2, 0, 5, 3, 5, 4, 3, 6, 1, 7, 1, 5, 0, 7, 6, 2, 7, 6, 7, 2, 5, 7, 1, 6, 4, 2, 6, 6, 5, 0, 5, 7, 1, 0, 5, 7, 3, 3, 0, 7, 0, 6, 4, 4, 1, 0, 1, 1, 2, 6, 6, 1, 2, 4, 5, 7, 7, 2, 3, 7, 1, 4, 7, 4, 4, 2, 5, 3, 4, 1, 6, 2, 1, 7, 1, 2, 0, 2, 5, 5, 1, 3, 2, 2, 2, 1, 4, 3, 0, 7, 5, 2, 7, 6, 2, 6, 4, 3, 0, 1, 6, 3, 4, 7, 5, 1, 4, 7, 2, 3, 3, 3, 1, 0, 0, 7, 0, 0, 3, 2, 1, 3, 3, 3, 5, 6, 5, 6, 1, 0, 2, 4, 5, 5, 5, 7, 6, 1, 5, 2, 0, 2, 5, 3, 3, 5, 2, 2, 7, 1, 3, 6, 4, 2, 1, 2, 7, 3, 1, 7, 0, 7, 6, 4, 2, 5, 4, 1, 3, 7, 7, 2, 1, 0, 3, 4, 2, 7, 4, 2, 6, 1, 1, 3, 0, 6, 0, 4, 5, 4, 5, 2, 6, 6, 5, 1, 3, 2, 4, 2, 3, 1, 1, 6, 7, 6, 5, 4, 4, 7, 5, 2, 0, 2, 7, 6, 0, 6, 3, 6, 0, 1, 4, 6, 1, 2, 0, 0, 5, 0, 2, 3, 6, 5, 4, 4, 4, 1, 5, 4, 5, 1, 1, 3, 0, 4, 4, 7, 0, 6, 5, 7, 7, 4, 7, 2, 6, 7, 1, 2, 0, 4, 2, 0, 4, 2, 5, 0, 5, 7, 6, 0, 6, 6, 7, 4, 1, 6, 5, 7, 1, 0, 1, 3, 1, 0, 4, 2, 6, 0, 3, 1, 0, 5, 7, 5, 6, 4, 3, 2, 1, 3, 7, 3, 0, 1, 7, 7, 1, 3, 3, 0, 1, 4, 4, 1, 1, 0, 1, 7, 7, 5, 4, 0, 7, 6, 7, 5, 6, 3, 1, 4, 0, 2, 5, 4, 2, 2, 6, 2, 5, 5, 1, 2, 1, 1, 1, 5, 4, 7, 4, 4, 4, 2, 0, 3, 5, 5, 0, 4, 0, 4, 3, 4, 7, 0, 3, 0, 0, 1, 1, 3, 2, 2, 0, 4, 2, 3, 6, 5, 5, 7, 5, 0, 3, 4, 7, 1, 0, 2, 4, 3, 5, 3, 5, 0, 1, 0, 2, 6, 5, 5, 1, 0, 5, 2, 2, 1, 4, 0, 4, 7, 6, 6, 7, 3, 1, 4, 5, 6, 3, 6, 7, 5, 4, 6, 6, 3, 5, 6, 6, 7, 4, 0, 5, 7, 3, 3, 4, 4, 7, 0, 6, 5, 2, 5, 4, 7, 2, 3, 7, 7, 2, 0, 7, 1, 6, 1, 7, 1, 6, 2, 4, 6, 5, 4, 6, 2, 1, 7, 5, 6, 5, 6, 1, 3, 1, 6, 3, 4, 7, 6, 7, 4, 2, 7, 5, 1, 5, 6, 1, 5, 4, 6, 3, 3, 1, 4, 5, 7, 7, 3, 6, 0, 7, 7, 6, 4, 6, 2, 5, 4, 1, 7, 2, 5, 6, 3, 2, 0, 2, 6, 3, 6, 7, 5, 2, 4, 0, 2, 2, 6, 1, 3, 6, 7, 6, 1, 0, 4, 7, 2, 2, 0, 5, 0, 3, 3, 6, 4, 3, 6, 2, 7, 7, 6, 2, 2, 4, 7, 0, 0, 6, 5, 7, 0, 3, 6, 0, 1, 4, 7, 0, 4, 2, 1, 0, 7, 1, 7, 7, 3, 5, 5, 6, 4, 7, 6, 0, 5, 3, 6, 3, 4, 2, 0, 1, 1, 1, 0, 3, 2, 6, 7, 3, 1, 0, 6, 2, 5, 2, 7, 6, 6, 6, 0, 7, 4, 7, 0, 7, 4, 6, 6, 1, 0, 0, 3, 2, 4, 2, 7, 5, 5, 2, 6, 7, 0, 2, 1, 0, 1, 7, 0, 2, 4, 7, 1, 2, 7, 1, 3, 0, 7, 2, 7, 5, 2, 7, 1, 4, 6, 1, 3, 0, 6, 4, 0, 5, 1, 0, 6, 7, 1, 4, 5, 1, 3, 0, 5, 0, 5, 7, 2, 7, 4, 1, 7, 6, 2, 0, 3, 4, 5, 6, 4, 7, 5, 7, 5, 1, 0, 5, 1, 2, 2, 1, 0, 7, 0, 6, 2, 4, 3, 6, 2, 2, 6, 6, 6, 3, 1, 0, 6, 5, 1, 6, 1, 2, 7, 1, 7, 0, 5, 0, 6, 5, 3, 0, 3, 2, 3, 4, 5, 0, 4, 7, 5, 5, 6, 2, 6, 5, 6, 6, 1, 5, 1, 0, 6, 6, 7, 2, 5, 1, 7, 6, 4, 5, 0, 3, 5, 7, 5, 4, 3, 6, 2, 6, 4, 6, 4, 7, 3, 1, 7, 7, 6, 2, 0, 0, 2, 4, 1, 7, 5, 3, 0, 5, 2, 6, 6, 2, 4, 0, 4, 7, 3, 7, 6, 0, 5, 5, 1, 0, 0, 7, 2, 2, 2, 6, 3, 2, 1, 0, 2, 6, 0, 4, 2, 7, 7, 2, 6, 6, 7, 1, 6, 5, 3, 2, 7, 1, 4, 2, 0, 1, 1, 4, 3, 4, 1, 6, 0, 5, 5, 2, 6, 6, 1, 5, 0, 0, 5, 2, 5, 3, 2, 1, 5, 1, 4, 5, 7, 4, 5, 6, 2, 3, 6, 4, 4, 4, 4, 3, 2, 3, 4, 5, 7, 3, 1, 4, 3, 7, 3, 5, 2, 4, 2, 6, 0, 6, 3, 1, 5, 6, 7, 2, 5, 5, 4, 5, 3, 6, 5, 6, 1, 6, 3, 3, 6, 0, 5, 7, 6, 1, 1, 1, 2, 7, 0, 3, 6, 3, 7, 0, 6, 6, 4, 4, 6, 5, 5, 6, 2, 0, 5, 7, 5, 4, 3, 4, 4, 6, 0, 2, 2, 2, 7, 0, 4, 6, 5, 5, 6, 6, 1, 0, 5, 6, 2, 1, 2, 4, 7, 3, 4, 2, 7, 1, 1, 5, 6, 3, 0, 2, 0, 3, 0, 1, 1, 1, 2, 0, 2, 4, 0, 4, 1, 0, 5, 6, 6, 0, 3, 1, 0, 3, 6, 3, 0, 2, 2, 2, 4, 5, 4, 1, 5, 4, 6, 6, 4, 7, 0, 0, 0, 6, 2, 2, 5, 2, 7, 6, 3, 6, 3, 4, 1, 1, 0, 4, 0, 1, 3, 3, 3, 6, 1, 1, 5, 1, 3, 4, 3, 1, 0, 2, 7, 1, 2, 6, 0, 1, 1, 1, 3, 5, 4, 7, 3, 5, 5, 1, 5, 3, 4, 4, 6, 2, 2, 3, 4, 1, 0, 3, 0, 3, 3, 7, 1, 6, 7, 7, 3, 3, 4, 6, 2, 2, 6, 6, 7, 4, 4, 7, 3, 5, 6, 6, 3, 2, 6, 1, 7, 3, 1, 2, 7, 3, 1, 1, 3, 7, 5, 5, 7, 7, 2, 2, 3, 1, 5, 7, 7, 3, 4, 1, 1, 2, 2, 5, 0, 4, 7, 4, 7, 2, 7, 7, 5, 1, 5, 4, 3, 2, 4, 7, 4, 7, 1, 2, 1, 3, 0, 1, 1, 1, 4, 3, 5, 1, 0, 6, 7, 4, 6, 6, 5, 6, 0, 3, 3, 2, 7, 0, 2, 1, 2, 6, 2, 3, 4, 5, 0, 1, 2, 3, 6, 6, 7, 5, 2, 4, 0, 4, 2, 5, 7, 1, 0, 3, 4, 7, 1, 5, 5, 2, 1, 0, 0, 0, 1, 0, 1, 4, 0, 5, 7, 6, 0, 6, 1, 6, 6, 5, 6, 7, 0, 1, 0, 7, 2, 1, 4, 3, 1, 3, 4, 3, 4, 4, 1, 4, 3, 1, 4, 5, 2, 3, 3, 5, 1, 2, 3, 2, 0, 3, 6, 1, 1, 7, 2, 1, 7, 7, 4, 5, 0, 5, 3, 1, 3, 6, 6, 2, 6, 5, 5, 6, 7, 6, 6, 4, 2, 3, 2, 1, 2, 5, 6, 1, 2, 0, 5, 2, 0, 7, 5, 0, 7, 0, 4, 0, 6, 7, 2, 2, 1, 4, 0, 1, 5, 4, 2, 4, 3, 2, 4, 7, 0, 4, 6, 2, 0, 1, 0, 7, 7, 2, 5, 2, 1, 3, 5, 5, 0, 5, 5, 7, 5, 6, 2, 7, 3, 3, 1, 2, 4, 3, 1, 5, 6, 4, 3, 4, 3, 7, 0, 0, 2, 6, 0, 7, 1, 3, 1, 5, 4, 6, 6, 4, 1, 4, 4, 5, 7, 5, 6, 0, 7, 7, 2, 6, 4, 1, 6, 1, 4, 5, 1, 1, 7, 6, 2, 6, 7, 5, 1, 5, 5, 1, 0, 4, 4, 0, 5, 0, 3, 4, 2, 2, 6, 1, 3, 4, 5, 2, 5, 2, 7, 6, 1, 6, 3, 2, 1, 7, 1, 7, 1, 4, 4, 4, 3, 3, 2, 6, 4, 1, 0, 3, 2, 2, 7, 3, 1, 5, 0, 0, 5, 0, 4, 2, 2, 7, 7, 6, 0, 6, 7, 4, 3, 7, 1, 3, 1, 6, 7, 5, 0, 4, 3, 2, 1, 1, 3, 0, 0, 6, 4, 6, 1, 2, 4, 5, 7, 1, 7, 0, 4, 6, 1, 3, 6, 2, 4, 1, 1, 1, 0, 5, 2, 2, 7, 2, 1, 5, 7, 1, 5, 3, 4, 4, 1, 4, 7, 1, 1, 4, 5, 7, 7, 6, 3, 1, 0, 5, 1, 2, 5, 1, 1, 1, 7, 3, 1, 3, 0, 4, 3, 6, 7, 5, 0, 5, 2, 0, 4, 4, 4, 6, 4, 1, 5, 6, 3, 0, 2, 1, 5, 2, 5, 6, 3, 1, 4, 2, 4, 5, 7, 2, 0, 0, 6, 0, 7, 2, 0, 6, 1, 6, 1, 4, 5, 1, 3, 5, 7, 4, 4, 0, 0, 0, 3, 1, 1, 6, 2, 6, 6, 6, 6, 1, 1, 7, 4, 7, 3, 5, 0, 5, 0, 3, 3, 1, 7, 0, 7, 6, 4, 0, 2, 4, 4, 1, 0, 5, 1, 3, 2, 7, 7, 2, 0, 0, 3, 0, 2, 4, 0, 4, 1, 7, 1, 3, 3, 4, 4, 1, 0, 5, 2, 7, 5, 3, 1, 2, 0, 5, 7, 7, 3, 0, 4, 5, 0, 0, 5, 4, 4, 5, 1, 0, 2, 7, 2, 1, 5, 0, 6, 6, 0, 7, 0, 6, 5, 1, 1, 3, 7, 4, 7, 6, 3, 0, 6, 5, 1, 5, 2, 6, 1, 4, 6, 6, 7, 4, 4, 3, 4, 7, 2, 1, 6, 4, 5, 7, 6, 6, 0, 0, 2, 5, 0, 6, 6, 4, 2, 4, 1, 3, 2, 1, 2, 2, 2, 0, 0, 1, 2, 2, 6, 5, 2, 1, 0, 0, 0, 0, 6, 0, 5, 5, 3, 3, 4, 7, 4, 6, 3, 2, 7, 1, 4, 7, 5, 6, 6, 6, 1, 0, 0, 3, 3, 4, 7, 3, 7, 4, 2, 7, 0, 4, 6, 4, 4, 4, 2, 7, 4, 0, 5, 6, 2, 1, 3, 4, 7, 7, 4, 4, 0, 1, 6, 1, 0, 3, 3, 7, 3, 6, 3, 4, 4, 7, 3, 0, 1, 7, 6, 2, 2, 3, 2, 6, 5, 4, 4, 6, 0, 0, 2, 6, 6, 5, 0, 2, 2, 7, 0, 6, 1, 2, 4, 0, 3, 0, 5, 1, 5, 2, 6, 4, 2, 0, 2, 4, 5, 4, 0, 0, 0, 7, 4, 5, 6, 3, 3, 2, 4, 1, 0, 7, 7, 7, 1, 5, 5, 5, 5, 5, 3, 5, 0, 2, 2, 1, 5, 6, 1, 2, 0, 3, 7, 5, 1, 1, 2, 7, 6, 3, 6, 5, 6, 2, 0, 4, 6, 3, 4, 3, 7, 3, 0, 2, 1, 7, 4, 2, 0, 6, 2, 1, 1, 3, 7, 3, 2, 7, 5, 1, 7, 3, 2, 3, 3, 0, 4, 1, 1, 3, 4, 3, 6, 4, 4, 4, 2, 5, 4, 4, 1, 3, 0, 4, 2, 1, 2, 6, 2, 1, 0, 4, 7, 4, 4, 0, 1, 7, 5, 3, 2, 3, 7, 4, 0, 7, 4, 1, 3, 7, 4, 5, 7, 5, 0, 7, 5, 2, 2, 3, 1, 0, 1, 0, 7, 6, 3, 5, 6, 3, 1, 4, 0, 5, 0, 3, 3, 2, 5, 6, 2, 3, 5, 6, 1, 6, 1, 1, 4, 4, 5, 4, 4, 1, 1, 7, 4, 1, 4, 2, 3, 7, 6, 2, 0, 4, 1, 4, 0, 3, 6, 3, 2, 7, 5, 7, 1, 7, 1, 6, 4, 7, 4, 4, 2, 7, 4, 4, 2, 7, 7, 5, 2, 4, 2, 4, 4, 3, 6, 4, 7, 6, 1, 1, 3, 7, 3, 4, 0, 6, 3, 7, 1, 5, 3, 2, 4, 6, 4, 3, 5, 4, 6, 6, 2, 2, 5, 7, 6, 1, 7, 4, 3, 4, 6, 5, 4, 1, 6, 2, 4, 2, 1, 3, 0, 6, 4, 1, 1, 3, 7, 6, 0, 7, 6, 6, 4, 6, 5, 0, 5, 5, 6, 2, 4, 5, 7, 0, 5, 0, 4, 3, 1, 5, 2, 1, 6, 2, 1, 2, 0, 4, 3, 7, 1, 7, 7, 4, 2, 2, 0, 4, 6, 0, 5, 1, 0, 1, 3, 6, 2, 7, 2, 1, 4, 4, 0, 5, 3, 3, 0, 5, 6, 4, 4, 3, 4, 4, 0, 1, 5, 2, 4, 1, 4, 7, 7, 1, 7, 7, 2, 4, 7, 5, 2, 5, 3, 6, 7, 2, 1, 7, 4, 5, 2, 5, 0, 3, 4, 5, 3, 5, 2, 2, 5, 7, 1, 0, 6, 6, 2, 4, 3, 5, 0, 2, 4, 3, 4, 0, 3, 1, 6, 4, 5, 4, 0, 4, 6, 2, 5, 7, 5, 3, 7, 5, 5, 0, 2, 1, 2, 2, 4, 3, 0, 0, 1, 6, 1, 4, 2, 6, 7, 3, 0, 1, 3, 7, 2, 7, 7, 5, 1, 4, 7, 7, 2, 6, 7, 2, 2, 2, 6, 3, 2, 0, 2, 7, 6, 0, 5, 1, 1, 2, 5, 4, 6, 6, 4, 7, 3, 4, 7, 1, 1, 4, 2, 4, 0, 2, 3, 7, 6, 4, 4, 1, 6, 5, 2, 6, 4, 7, 4, 7, 6, 0, 5, 3, 3, 2, 3, 3, 4, 4, 6, 4, 4, 7, 0, 3, 5, 2, 6, 0, 1, 7, 4, 6, 6, 6, 2, 0, 2, 3, 7, 4, 6, 3, 2, 1, 0, 0, 1, 0, 2, 0, 3, 1, 4, 5, 5, 7, 5, 6, 5, 2, 2, 5, 6, 6, 5, 0, 1, 2, 1, 1, 4, 1, 2, 0, 6, 3, 2, 6, 3, 1, 1, 1, 5, 0, 4, 4, 7, 3, 4, 3, 1, 6, 5, 5, 6, 6, 7, 4, 3, 3, 3, 1, 5, 5, 2, 5, 0, 6, 4, 6, 2, 5, 2, 7, 3, 6, 6, 2, 1, 3, 7, 4, 6, 0, 0, 0, 0, 0, 3, 6, 1, 6, 3, 7, 5, 5, 5, 2, 1, 3, 3, 5, 5, 5, 4, 4, 1, 7, 7, 2, 7, 7, 7, 5, 1, 0, 5, 7, 7, 5, 1, 3, 1, 6, 7, 2, 0, 2, 7, 1, 5, 0, 0, 6, 7, 5, 7, 1, 4, 6, 6, 4, 6, 1, 1, 1, 7, 5, 2, 4, 0, 5, 0, 3, 1, 0, 6, 7, 1, 4, 4, 5, 6, 0, 7, 4, 5, 2, 6, 6, 3, 1, 6, 1, 0, 1, 7, 7, 7, 7, 2, 2, 7, 4, 7, 2, 7, 7, 7, 7, 7, 2, 4, 3, 6, 3, 5, 5, 5, 7, 5, 3, 1, 4, 3, 6, 5, 5, 1, 5, 5, 7, 7, 0, 4, 5, 0, 0, 4, 5, 1, 3, 0, 6, 1, 3, 6, 6, 0, 5, 5, 5, 2, 3, 2, 7, 6, 0, 1, 6, 1, 4, 5, 2, 4, 6, 1, 6, 3, 1, 3, 6, 0, 7, 7, 7, 2, 1, 0, 1, 3, 0, 3, 5, 1, 6, 1, 3, 5, 0, 5, 3, 6, 4, 5, 0, 5, 4, 1, 0, 1, 0, 5, 6, 3, 1, 0, 2, 4, 6, 3, 6, 4, 5, 5, 7, 3, 0, 7, 2, 2, 5, 3, 6, 5, 1, 3, 3, 1, 3, 1, 5, 3, 1, 5, 1, 1, 6, 7, 2, 5, 7, 1, 2, 4, 2, 2, 1, 1, 7, 7, 1, 7, 1, 2, 1, 5, 5, 0, 0, 1, 2, 1, 0, 3, 6, 3, 3, 0, 7, 3, 2, 3, 5, 4, 7, 1, 2, 3, 2, 3, 3, 3, 1, 2, 3, 2, 2, 7, 0, 2, 0, 2, 3, 5, 0, 2, 2, 7, 0, 4, 4, 4, 0, 3, 6, 6, 7, 6, 2, 0, 0, 4, 3, 1, 5, 7, 2, 5, 5, 7, 1, 0, 0, 0, 2, 5, 1, 3, 1, 5, 1, 3, 1, 6, 1, 6, 3, 0, 0, 0, 5, 1, 2, 2, 2, 2, 3, 6, 7, 3, 2, 7, 5, 4, 5, 2, 4, 4, 5, 4, 5, 5, 5, 7, 6, 0, 2, 4, 5, 7, 1, 5, 5, 7, 3, 0, 1, 5, 3, 7, 5, 3, 1, 1, 6, 6, 7, 2, 7, 5, 4, 7, 4, 0, 4, 7, 7, 5, 7, 5, 0, 2, 5, 1, 0, 4, 5, 2, 7, 1, 7, 3, 1, 3, 5, 7, 2, 1, 1, 2, 1, 3, 5, 5, 4, 0, 7, 1, 1, 2, 4, 3, 6, 0, 2, 5, 0, 2, 0, 4, 2, 2, 1, 2, 2, 0, 5, 1, 5, 1, 7, 0, 6, 6, 0, 3, 4, 1, 3, 6, 1, 1, 5, 1, 5, 1, 7, 6, 5, 0, 7, 2, 4, 1, 1, 1, 3, 0, 7, 5, 7, 4, 6, 0, 3, 2, 1, 5, 0, 7, 6, 5, 1, 2, 2, 6, 3, 3, 0, 4, 7, 0, 2, 1, 3, 2, 1, 6, 0, 1, 6, 3, 0, 3, 3, 5, 2, 6, 0, 6, 2, 1, 4, 5, 1, 6, 4, 6, 0, 7, 2, 4, 3, 7, 3, 1, 1, 2, 4, 2, 4, 2, 0, 7, 2, 4, 4, 4, 0, 0, 2, 1, 4, 0, 1, 6, 5, 1, 6, 6, 5, 7, 5, 7, 5, 1, 3, 0, 6, 0, 3, 0, 6, 0, 4, 7, 5, 6, 0, 1, 2, 6, 7, 5, 1, 4, 3, 7, 3, 1, 5, 6, 1, 4, 0, 1, 5, 6, 1, 0, 7, 2, 3, 2, 7, 5, 2, 3, 7, 1, 5, 7, 7, 4, 6, 6, 3, 5, 6, 1, 1, 0, 6, 1, 0, 1, 7, 5, 5, 2, 5, 3, 1, 1, 1, 0, 1, 1, 1, 4, 5, 7, 1, 0, 1, 7, 7, 0, 5, 5, 2, 5, 0, 4, 3, 6, 7, 3, 7, 6, 1, 4, 6, 7, 6, 0, 3, 5, 2, 2, 1, 7, 1, 0, 4, 4, 2, 5, 7, 6, 2, 3, 4, 1, 2, 0, 2, 2, 6, 5, 6, 5, 3, 5, 1, 1, 7, 1, 1, 5, 7, 0, 1, 7, 4, 6, 1, 6, 1, 1, 7, 1, 7, 4, 7, 6, 4, 4, 1, 4, 7, 6, 0, 7, 6, 0, 3, 2, 2, 0, 4, 6, 0, 5, 1, 2, 2, 0, 0, 1, 7, 1, 2, 7, 1, 7, 0, 3, 7, 0, 7, 6, 7, 7, 5, 2, 5, 3, 7, 4, 4, 0, 2, 2, 4, 7, 6, 6, 7, 7, 1, 7, 2, 0, 0, 0, 6, 1, 0, 7, 1, 6, 3, 6, 2, 2, 4, 0, 1, 1, 7, 3, 1, 4, 0, 2, 2, 1, 2, 4, 3, 5, 5, 0, 1, 5, 0, 7, 5, 1, 1, 7, 1, 1, 5, 0, 1, 7, 3, 7, 4, 3, 7, 7, 4, 2, 2, 1, 2, 2, 1, 6, 5, 2, 3, 3, 3, 2, 0, 6, 7, 3, 5, 4, 5, 2, 6, 1, 2, 6, 5, 1, 1, 1, 5, 7, 3, 4, 0, 2, 5, 0, 4, 7, 0, 2, 1, 7, 1, 7, 2, 0, 1, 5, 3, 6, 5, 1, 5, 1, 0, 6, 4, 5, 0, 2, 0, 2, 5, 4, 1, 7, 1, 1, 4, 0, 6, 5, 0, 2, 3, 1, 4, 0, 5, 1, 2, 7, 1, 0, 3, 3, 4, 0, 4, 4, 5, 0, 0, 4, 1, 0, 2, 0, 3, 7, 5, 5, 1, 1, 0, 4, 1, 5, 6, 1, 2, 0, 1, 6, 6, 2, 2, 3, 1, 2, 7, 7, 3, 1, 1, 0, 2, 2, 2, 4, 1, 2, 7, 4, 6, 3, 3, 2, 4, 6, 6, 5, 1, 0, 5, 0, 4, 4, 6, 0, 4, 5, 5, 7, 6, 7, 2, 5, 0, 5, 4, 5, 2, 0, 4, 2, 7, 1, 5, 1, 5, 4, 1, 0, 1, 6, 5, 7, 4, 6, 5, 2, 4, 4, 3, 5, 4, 2, 2, 2, 7, 5, 1, 5, 6, 6, 2, 2, 4, 1, 4, 7, 5, 7, 7, 4, 3, 7, 1, 7, 5, 1, 7, 5, 0, 4, 3, 1, 3, 2, 3, 3, 4, 6, 3, 7, 0, 6, 3, 6, 7, 6, 4, 7, 2, 4, 1, 2, 0, 2, 4, 2, 4, 0, 6, 4, 4, 4, 2, 6, 7, 4, 2, 3, 7, 4, 5, 5, 5, 2, 7, 5, 4, 5, 7, 6, 3, 7, 1, 1, 7, 7, 3, 5, 0, 6, 1, 0, 4, 7, 7, 3, 1, 7, 4, 4, 4, 6, 5, 1, 0, 3, 1, 2, 7, 0, 2, 2, 7, 0, 2, 0, 7, 5, 1, 2, 4, 2, 4, 2, 7, 2, 5, 1, 4, 2, 6, 3, 4, 7, 2, 5, 6, 7, 5, 2, 1, 4, 1, 5, 6, 6, 4, 1, 4, 5, 1, 0, 5, 5, 7, 1, 1, 6, 6, 5, 0, 2, 1, 0, 2, 5, 6, 3, 4, 1, 3, 7, 7, 1, 1, 5, 3, 3, 1, 6, 0, 2, 0, 6, 2, 1, 1, 0, 2, 2, 1, 0, 1, 4, 0, 7, 2, 6, 2, 1, 2, 5, 5, 1, 1, 6, 1, 0, 7, 7, 6, 1, 2, 7, 4, 0, 0, 5, 4, 5, 6, 0, 4, 1, 0, 2, 6, 7, 1, 4, 3, 1, 7, 5, 1, 4, 2, 3, 5, 0, 1, 0, 5, 2, 1, 5, 6, 1, 7, 5, 6, 5, 6, 2, 5, 5, 6, 0, 3, 2, 7, 4, 0, 3, 0, 1, 0, 7, 2, 7, 0, 1, 1, 1, 0, 2, 0, 2, 4, 4, 2, 1, 6, 5, 7, 1, 3, 7, 4, 1, 2, 5, 2, 3, 3, 0, 7, 2, 5, 2, 6, 7, 5, 4, 6, 6, 6, 2, 5, 5, 6, 5, 5, 2, 2, 7, 5, 6, 6, 2, 1, 7, 5, 0, 1, 2, 6, 3, 7, 1, 0, 2, 7, 0, 5, 5, 4, 4, 4, 6, 5, 2, 3, 1, 6, 6, 6, 5, 3, 4, 1, 0, 2, 5, 5, 7, 4, 4, 3, 0, 2, 2, 2, 5, 6, 4, 5, 7, 6, 2, 7, 5, 0, 6, 2, 1, 6, 1, 1, 5, 4, 6, 3, 1, 4, 6, 7, 3, 3, 1, 4, 5, 3, 2, 6, 3, 6, 7, 7, 5, 2, 6, 6, 3, 2, 3, 7, 2, 3, 3, 0, 7, 6, 7, 0, 2, 6, 3, 3, 5, 3, 6, 1, 7, 4, 5, 2, 2, 4, 5, 5, 2, 1, 2, 3, 2, 1, 1, 0, 0, 0, 7, 4, 1, 6, 0, 2, 2, 3, 7, 0, 4, 4, 7, 7, 4, 7, 2, 6, 2, 5, 0, 7, 1, 2, 0, 1, 7, 2, 6, 7, 5, 4, 1, 0, 2, 5, 4, 5, 0, 2, 5, 7, 4, 7, 1, 0, 4, 6, 6, 0, 3, 0, 4, 6, 7, 0, 5, 2, 1, 2, 7, 7, 6, 2, 5, 1, 1, 4, 7, 3, 4, 5, 2, 7, 0, 2, 5, 1, 1, 7, 6, 6, 2, 3, 4, 3, 5, 6, 7, 4, 2, 7, 0, 4, 1, 5, 4, 2, 0, 4, 6, 3, 1, 2, 4, 6, 1, 3, 1, 4, 0, 5, 7, 1, 1, 4, 1, 6, 2, 4, 3, 5, 3, 3, 6, 0, 4, 0, 4, 7, 1, 5, 7, 1, 0, 7, 0, 0, 7, 6, 2, 0, 4, 7, 3, 5, 2, 1, 1, 3, 4, 3, 0, 5, 5, 6, 7, 7, 1, 2, 7, 2, 4, 7, 3, 2, 4, 7, 7, 3, 5, 4, 7, 1, 5, 0, 4, 4, 6, 6, 7, 6, 0, 3, 6, 7, 0, 7, 1, 1, 2, 7, 0, 5, 5, 7, 3, 1, 3, 0, 3, 2, 7, 6, 5, 5, 3, 5, 7, 6, 0, 2, 3, 7, 7, 0, 5, 3, 7, 1, 0, 4, 0, 5, 7, 7, 1, 3, 6, 3, 7, 1, 5, 2, 6, 7, 1, 1, 5, 2, 6, 3, 3, 1, 3, 1, 1, 3, 1, 4, 1, 1, 7, 1, 0, 4, 7, 4, 4, 2, 2, 7, 2, 2, 7, 5, 7, 0, 1, 2, 1, 2, 7, 2, 7, 1, 3, 0, 5, 4, 2, 2, 5, 1, 5, 3, 4, 2, 3, 1, 5, 6, 2, 6, 1, 3, 1, 0, 4, 2, 1, 4, 4, 5, 2, 4, 0, 1, 6, 1, 5, 3, 4, 4, 1, 1, 1, 4, 5, 6, 0, 0, 1, 2, 7, 5, 5, 4, 0, 3, 0, 7, 7, 4, 3, 1, 7, 1, 2, 5, 1, 0, 3, 7, 6, 7, 2, 2, 0, 0, 6, 7, 7, 7, 7, 0, 6, 1, 7, 6, 7, 1, 4, 5, 0, 4, 0, 7, 0, 0, 4, 2, 0, 0, 6, 0, 6, 2, 5, 5, 6, 4, 4, 3, 1, 4, 4, 1, 0, 3, 4, 1]\n"
     ]
    }
   ],
   "source": [
    "keys = topic_matrix.argmax(axis = 1).tolist() # clusters/topics\n",
    "print(keys)"
   ]
  },
  {
   "cell_type": "code",
   "execution_count": 47,
   "metadata": {},
   "outputs": [
    {
     "data": {
      "text/plain": [
       "[(7, 1356),\n",
       " (1, 1315),\n",
       " (2, 1245),\n",
       " (0, 1242),\n",
       " (5, 1229),\n",
       " (4, 1225),\n",
       " (6, 1205),\n",
       " (3, 1183)]"
      ]
     },
     "execution_count": 47,
     "metadata": {},
     "output_type": "execute_result"
    }
   ],
   "source": [
    "from collections import Counter\n",
    "\n",
    "c = Counter(keys)\n",
    "c.most_common(10) # documents per topic"
   ]
  },
  {
   "cell_type": "code",
   "execution_count": null,
   "metadata": {},
   "outputs": [],
   "source": [
    "N_WORDS = 4 # will share with us the other stuff from here on\n",
    "\n",
    "topic_names = {}\n",
    "for topic_idx, topic in enumerate(lda.components_):\n",
    "    name = \", \""
   ]
  },
  {
   "cell_type": "code",
   "execution_count": null,
   "metadata": {},
   "outputs": [],
   "source": [
    "# (...) Rest from "
   ]
  },
  {
   "cell_type": "code",
   "execution_count": 1,
   "metadata": {},
   "outputs": [],
   "source": [
    "%matplotlib inline\n",
    "\n",
    "text = \"I love you. We love Python. Python loves us. Git also loves you. This is a noun phrase: Social Network Analysis\"\n"
   ]
  },
  {
   "cell_type": "code",
   "execution_count": 6,
   "metadata": {},
   "outputs": [],
   "source": [
    "from textblob import TextBlob\n",
    "\n",
    "blob = TextBlob(text)"
   ]
  },
  {
   "cell_type": "code",
   "execution_count": 7,
   "metadata": {},
   "outputs": [
    {
     "data": {
      "text/plain": [
       "WordList(['python', 'python', 'git', 'noun phrase', 'network analysis'])"
      ]
     },
     "execution_count": 7,
     "metadata": {},
     "output_type": "execute_result"
    }
   ],
   "source": [
    "blob.noun_phrases"
   ]
  },
  {
   "cell_type": "code",
   "execution_count": 8,
   "metadata": {},
   "outputs": [
    {
     "data": {
      "text/plain": [
       "Sentiment(polarity=0.3444444444444445, subjectivity=0.4222222222222222)"
      ]
     },
     "execution_count": 8,
     "metadata": {},
     "output_type": "execute_result"
    }
   ],
   "source": [
    "blob.sentiment # the closer to -1 or 1 the stronger the sentiment"
   ]
  },
  {
   "cell_type": "code",
   "execution_count": 9,
   "metadata": {},
   "outputs": [
    {
     "data": {
      "text/plain": [
       "[('I', 'PRP'),\n",
       " ('love', 'VBP'),\n",
       " ('you', 'PRP'),\n",
       " ('We', 'PRP'),\n",
       " ('love', 'VBP'),\n",
       " ('Python', 'NNP'),\n",
       " ('Python', 'NNP'),\n",
       " ('loves', 'VBZ'),\n",
       " ('us', 'PRP'),\n",
       " ('Git', 'NNP'),\n",
       " ('also', 'RB'),\n",
       " ('loves', 'VBZ'),\n",
       " ('you', 'PRP'),\n",
       " ('This', 'DT'),\n",
       " ('is', 'VBZ'),\n",
       " ('a', 'DT'),\n",
       " ('noun', 'JJ'),\n",
       " ('phrase', 'NN'),\n",
       " ('Social', 'NNP'),\n",
       " ('Network', 'NNP'),\n",
       " ('Analysis', 'NNP')]"
      ]
     },
     "execution_count": 9,
     "metadata": {},
     "output_type": "execute_result"
    }
   ],
   "source": [
    "blob.tags #function of each word in the sentence"
   ]
  },
  {
   "cell_type": "code",
   "execution_count": 15,
   "metadata": {},
   "outputs": [
    {
     "data": {
      "text/plain": [
       "<matplotlib.image.AxesImage at 0x10ee6e358>"
      ]
     },
     "execution_count": 15,
     "metadata": {},
     "output_type": "execute_result"
    },
    {
     "data": {
      "image/png": "[encoded data removed]",
      "text/plain": [
       "<matplotlib.figure.Figure at 0x10ee570f0>"
      ]
     },
     "metadata": {},
     "output_type": "display_data"
    }
   ],
   "source": [
    "import matplotlib.pyplot as plt\n",
    "from wordcloud import WordCloud\n",
    "\n",
    "wc = WordCloud(relative_scaling = 1.0, background_color = 'white').generate(text)\n",
    "plt.imshow(wc)"
   ]
  },
  {
   "cell_type": "code",
   "execution_count": null,
   "metadata": {},
   "outputs": [],
   "source": [
    "# READABILITY\n",
    "\n",
    "# textatistic package (will share with us)\n",
    "\n",
    "\n"
   ]
  },
  {
   "cell_type": "code",
   "execution_count": null,
   "metadata": {},
   "outputs": [],
   "source": [
    "# Regular Expressions\n",
    "\n",
    "# get lecture examples"
   ]
  },
  {
   "cell_type": "code",
   "execution_count": null,
   "metadata": {},
   "outputs": [],
   "source": []
  },
  {
   "cell_type": "code",
   "execution_count": null,
   "metadata": {},
   "outputs": [],
   "source": []
  },
  {
   "cell_type": "code",
   "execution_count": null,
   "metadata": {},
   "outputs": [],
   "source": []
  },
  {
   "cell_type": "code",
   "execution_count": null,
   "metadata": {},
   "outputs": [],
   "source": []
  }
 ],
 "metadata": {
  "kernelspec": {
   "display_name": "Python 3",
   "language": "python",
   "name": "python3"
  },
  "language_info": {
   "codemirror_mode": {
    "name": "ipython",
    "version": 3
   },
   "file_extension": ".py",
   "mimetype": "text/x-python",
   "name": "python",
   "nbconvert_exporter": "python",
   "pygments_lexer": "ipython3",
   "version": "3.6.4"
  }
 },
 "nbformat": 4,
 "nbformat_minor": 2
}
